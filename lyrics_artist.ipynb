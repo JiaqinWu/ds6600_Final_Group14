{
  "nbformat": 4,
  "nbformat_minor": 0,
  "metadata": {
    "colab": {
      "provenance": [],
      "machine_shape": "hm",
      "gpuType": "V100"
    },
    "kernelspec": {
      "name": "python3",
      "display_name": "Python 3"
    },
    "language_info": {
      "name": "python"
    },
    "accelerator": "GPU"
  },
  "cells": [
    {
      "cell_type": "code",
      "execution_count": 1,
      "metadata": {
        "id": "iWHqfcfHQW_5"
      },
      "outputs": [],
      "source": [
        "import pandas as pd"
      ]
    },
    {
      "cell_type": "code",
      "source": [
        "song = pd.read_csv(\"Songs.csv\")\n",
        "song"
      ],
      "metadata": {
        "colab": {
          "base_uri": "https://localhost:8080/",
          "height": 424
        },
        "id": "lJ03-2KKQx3a",
        "outputId": "9ed9987d-f48f-4f3a-a189-965876595fa3"
      },
      "execution_count": 2,
      "outputs": [
        {
          "output_type": "execute_result",
          "data": {
            "text/plain": [
              "             Artist                     Title  \\\n",
              "0      Taylor Swift                  cardigan   \n",
              "1      Taylor Swift                     exile   \n",
              "2      Taylor Swift                     Lover   \n",
              "3      Taylor Swift                     the 1   \n",
              "4      Taylor Swift  Look What You Made Me Do   \n",
              "...             ...                       ...   \n",
              "1094  Fool's Garden                The Tocsin   \n",
              "1095  Fool's Garden                   Finally   \n",
              "1096  Fool's Garden              One Fine Day   \n",
              "1097  Fool's Garden       The Principal Thing   \n",
              "1098  Fool's Garden                     Emily   \n",
              "\n",
              "                                                 Lyrics  \n",
              "0     Vintage tee, brand new phone\\nHigh heels on co...  \n",
              "1     I can see you standing, honey\\nWith his arms a...  \n",
              "2     We could leave the Christmas lights up 'til Ja...  \n",
              "3     I'm doing good, I'm on some new sh*t\\nBeen say...  \n",
              "4     I don't like your little games\\nDon't like you...  \n",
              "...                                                 ...  \n",
              "1094  You saw her standing at the gateway\\nwith her ...  \n",
              "1095  No longer the same train\\nIt's reelin' on a di...  \n",
              "1096  Who's gonna cover me\\nwhen I shiver in a frigo...  \n",
              "1097  Do you have a problem?\\nDo you wanna whine?\\nD...  \n",
              "1098  Emily's going out tonight\\nwith a candle in he...  \n",
              "\n",
              "[1099 rows x 3 columns]"
            ],
            "text/html": [
              "\n",
              "  <div id=\"df-b9389ee0-e8bf-4da5-af8e-689cf1ec208b\" class=\"colab-df-container\">\n",
              "    <div>\n",
              "<style scoped>\n",
              "    .dataframe tbody tr th:only-of-type {\n",
              "        vertical-align: middle;\n",
              "    }\n",
              "\n",
              "    .dataframe tbody tr th {\n",
              "        vertical-align: top;\n",
              "    }\n",
              "\n",
              "    .dataframe thead th {\n",
              "        text-align: right;\n",
              "    }\n",
              "</style>\n",
              "<table border=\"1\" class=\"dataframe\">\n",
              "  <thead>\n",
              "    <tr style=\"text-align: right;\">\n",
              "      <th></th>\n",
              "      <th>Artist</th>\n",
              "      <th>Title</th>\n",
              "      <th>Lyrics</th>\n",
              "    </tr>\n",
              "  </thead>\n",
              "  <tbody>\n",
              "    <tr>\n",
              "      <th>0</th>\n",
              "      <td>Taylor Swift</td>\n",
              "      <td>cardigan</td>\n",
              "      <td>Vintage tee, brand new phone\\nHigh heels on co...</td>\n",
              "    </tr>\n",
              "    <tr>\n",
              "      <th>1</th>\n",
              "      <td>Taylor Swift</td>\n",
              "      <td>exile</td>\n",
              "      <td>I can see you standing, honey\\nWith his arms a...</td>\n",
              "    </tr>\n",
              "    <tr>\n",
              "      <th>2</th>\n",
              "      <td>Taylor Swift</td>\n",
              "      <td>Lover</td>\n",
              "      <td>We could leave the Christmas lights up 'til Ja...</td>\n",
              "    </tr>\n",
              "    <tr>\n",
              "      <th>3</th>\n",
              "      <td>Taylor Swift</td>\n",
              "      <td>the 1</td>\n",
              "      <td>I'm doing good, I'm on some new sh*t\\nBeen say...</td>\n",
              "    </tr>\n",
              "    <tr>\n",
              "      <th>4</th>\n",
              "      <td>Taylor Swift</td>\n",
              "      <td>Look What You Made Me Do</td>\n",
              "      <td>I don't like your little games\\nDon't like you...</td>\n",
              "    </tr>\n",
              "    <tr>\n",
              "      <th>...</th>\n",
              "      <td>...</td>\n",
              "      <td>...</td>\n",
              "      <td>...</td>\n",
              "    </tr>\n",
              "    <tr>\n",
              "      <th>1094</th>\n",
              "      <td>Fool's Garden</td>\n",
              "      <td>The Tocsin</td>\n",
              "      <td>You saw her standing at the gateway\\nwith her ...</td>\n",
              "    </tr>\n",
              "    <tr>\n",
              "      <th>1095</th>\n",
              "      <td>Fool's Garden</td>\n",
              "      <td>Finally</td>\n",
              "      <td>No longer the same train\\nIt's reelin' on a di...</td>\n",
              "    </tr>\n",
              "    <tr>\n",
              "      <th>1096</th>\n",
              "      <td>Fool's Garden</td>\n",
              "      <td>One Fine Day</td>\n",
              "      <td>Who's gonna cover me\\nwhen I shiver in a frigo...</td>\n",
              "    </tr>\n",
              "    <tr>\n",
              "      <th>1097</th>\n",
              "      <td>Fool's Garden</td>\n",
              "      <td>The Principal Thing</td>\n",
              "      <td>Do you have a problem?\\nDo you wanna whine?\\nD...</td>\n",
              "    </tr>\n",
              "    <tr>\n",
              "      <th>1098</th>\n",
              "      <td>Fool's Garden</td>\n",
              "      <td>Emily</td>\n",
              "      <td>Emily's going out tonight\\nwith a candle in he...</td>\n",
              "    </tr>\n",
              "  </tbody>\n",
              "</table>\n",
              "<p>1099 rows × 3 columns</p>\n",
              "</div>\n",
              "    <div class=\"colab-df-buttons\">\n",
              "\n",
              "  <div class=\"colab-df-container\">\n",
              "    <button class=\"colab-df-convert\" onclick=\"convertToInteractive('df-b9389ee0-e8bf-4da5-af8e-689cf1ec208b')\"\n",
              "            title=\"Convert this dataframe to an interactive table.\"\n",
              "            style=\"display:none;\">\n",
              "\n",
              "  <svg xmlns=\"http://www.w3.org/2000/svg\" height=\"24px\" viewBox=\"0 -960 960 960\">\n",
              "    <path d=\"M120-120v-720h720v720H120Zm60-500h600v-160H180v160Zm220 220h160v-160H400v160Zm0 220h160v-160H400v160ZM180-400h160v-160H180v160Zm440 0h160v-160H620v160ZM180-180h160v-160H180v160Zm440 0h160v-160H620v160Z\"/>\n",
              "  </svg>\n",
              "    </button>\n",
              "\n",
              "  <style>\n",
              "    .colab-df-container {\n",
              "      display:flex;\n",
              "      gap: 12px;\n",
              "    }\n",
              "\n",
              "    .colab-df-convert {\n",
              "      background-color: #E8F0FE;\n",
              "      border: none;\n",
              "      border-radius: 50%;\n",
              "      cursor: pointer;\n",
              "      display: none;\n",
              "      fill: #1967D2;\n",
              "      height: 32px;\n",
              "      padding: 0 0 0 0;\n",
              "      width: 32px;\n",
              "    }\n",
              "\n",
              "    .colab-df-convert:hover {\n",
              "      background-color: #E2EBFA;\n",
              "      box-shadow: 0px 1px 2px rgba(60, 64, 67, 0.3), 0px 1px 3px 1px rgba(60, 64, 67, 0.15);\n",
              "      fill: #174EA6;\n",
              "    }\n",
              "\n",
              "    .colab-df-buttons div {\n",
              "      margin-bottom: 4px;\n",
              "    }\n",
              "\n",
              "    [theme=dark] .colab-df-convert {\n",
              "      background-color: #3B4455;\n",
              "      fill: #D2E3FC;\n",
              "    }\n",
              "\n",
              "    [theme=dark] .colab-df-convert:hover {\n",
              "      background-color: #434B5C;\n",
              "      box-shadow: 0px 1px 3px 1px rgba(0, 0, 0, 0.15);\n",
              "      filter: drop-shadow(0px 1px 2px rgba(0, 0, 0, 0.3));\n",
              "      fill: #FFFFFF;\n",
              "    }\n",
              "  </style>\n",
              "\n",
              "    <script>\n",
              "      const buttonEl =\n",
              "        document.querySelector('#df-b9389ee0-e8bf-4da5-af8e-689cf1ec208b button.colab-df-convert');\n",
              "      buttonEl.style.display =\n",
              "        google.colab.kernel.accessAllowed ? 'block' : 'none';\n",
              "\n",
              "      async function convertToInteractive(key) {\n",
              "        const element = document.querySelector('#df-b9389ee0-e8bf-4da5-af8e-689cf1ec208b');\n",
              "        const dataTable =\n",
              "          await google.colab.kernel.invokeFunction('convertToInteractive',\n",
              "                                                    [key], {});\n",
              "        if (!dataTable) return;\n",
              "\n",
              "        const docLinkHtml = 'Like what you see? Visit the ' +\n",
              "          '<a target=\"_blank\" href=https://colab.research.google.com/notebooks/data_table.ipynb>data table notebook</a>'\n",
              "          + ' to learn more about interactive tables.';\n",
              "        element.innerHTML = '';\n",
              "        dataTable['output_type'] = 'display_data';\n",
              "        await google.colab.output.renderOutput(dataTable, element);\n",
              "        const docLink = document.createElement('div');\n",
              "        docLink.innerHTML = docLinkHtml;\n",
              "        element.appendChild(docLink);\n",
              "      }\n",
              "    </script>\n",
              "  </div>\n",
              "\n",
              "\n",
              "<div id=\"df-24be7cd4-1de8-4706-824f-6a798d2d0c7c\">\n",
              "  <button class=\"colab-df-quickchart\" onclick=\"quickchart('df-24be7cd4-1de8-4706-824f-6a798d2d0c7c')\"\n",
              "            title=\"Suggest charts\"\n",
              "            style=\"display:none;\">\n",
              "\n",
              "<svg xmlns=\"http://www.w3.org/2000/svg\" height=\"24px\"viewBox=\"0 0 24 24\"\n",
              "     width=\"24px\">\n",
              "    <g>\n",
              "        <path d=\"M19 3H5c-1.1 0-2 .9-2 2v14c0 1.1.9 2 2 2h14c1.1 0 2-.9 2-2V5c0-1.1-.9-2-2-2zM9 17H7v-7h2v7zm4 0h-2V7h2v10zm4 0h-2v-4h2v4z\"/>\n",
              "    </g>\n",
              "</svg>\n",
              "  </button>\n",
              "\n",
              "<style>\n",
              "  .colab-df-quickchart {\n",
              "      --bg-color: #E8F0FE;\n",
              "      --fill-color: #1967D2;\n",
              "      --hover-bg-color: #E2EBFA;\n",
              "      --hover-fill-color: #174EA6;\n",
              "      --disabled-fill-color: #AAA;\n",
              "      --disabled-bg-color: #DDD;\n",
              "  }\n",
              "\n",
              "  [theme=dark] .colab-df-quickchart {\n",
              "      --bg-color: #3B4455;\n",
              "      --fill-color: #D2E3FC;\n",
              "      --hover-bg-color: #434B5C;\n",
              "      --hover-fill-color: #FFFFFF;\n",
              "      --disabled-bg-color: #3B4455;\n",
              "      --disabled-fill-color: #666;\n",
              "  }\n",
              "\n",
              "  .colab-df-quickchart {\n",
              "    background-color: var(--bg-color);\n",
              "    border: none;\n",
              "    border-radius: 50%;\n",
              "    cursor: pointer;\n",
              "    display: none;\n",
              "    fill: var(--fill-color);\n",
              "    height: 32px;\n",
              "    padding: 0;\n",
              "    width: 32px;\n",
              "  }\n",
              "\n",
              "  .colab-df-quickchart:hover {\n",
              "    background-color: var(--hover-bg-color);\n",
              "    box-shadow: 0 1px 2px rgba(60, 64, 67, 0.3), 0 1px 3px 1px rgba(60, 64, 67, 0.15);\n",
              "    fill: var(--button-hover-fill-color);\n",
              "  }\n",
              "\n",
              "  .colab-df-quickchart-complete:disabled,\n",
              "  .colab-df-quickchart-complete:disabled:hover {\n",
              "    background-color: var(--disabled-bg-color);\n",
              "    fill: var(--disabled-fill-color);\n",
              "    box-shadow: none;\n",
              "  }\n",
              "\n",
              "  .colab-df-spinner {\n",
              "    border: 2px solid var(--fill-color);\n",
              "    border-color: transparent;\n",
              "    border-bottom-color: var(--fill-color);\n",
              "    animation:\n",
              "      spin 1s steps(1) infinite;\n",
              "  }\n",
              "\n",
              "  @keyframes spin {\n",
              "    0% {\n",
              "      border-color: transparent;\n",
              "      border-bottom-color: var(--fill-color);\n",
              "      border-left-color: var(--fill-color);\n",
              "    }\n",
              "    20% {\n",
              "      border-color: transparent;\n",
              "      border-left-color: var(--fill-color);\n",
              "      border-top-color: var(--fill-color);\n",
              "    }\n",
              "    30% {\n",
              "      border-color: transparent;\n",
              "      border-left-color: var(--fill-color);\n",
              "      border-top-color: var(--fill-color);\n",
              "      border-right-color: var(--fill-color);\n",
              "    }\n",
              "    40% {\n",
              "      border-color: transparent;\n",
              "      border-right-color: var(--fill-color);\n",
              "      border-top-color: var(--fill-color);\n",
              "    }\n",
              "    60% {\n",
              "      border-color: transparent;\n",
              "      border-right-color: var(--fill-color);\n",
              "    }\n",
              "    80% {\n",
              "      border-color: transparent;\n",
              "      border-right-color: var(--fill-color);\n",
              "      border-bottom-color: var(--fill-color);\n",
              "    }\n",
              "    90% {\n",
              "      border-color: transparent;\n",
              "      border-bottom-color: var(--fill-color);\n",
              "    }\n",
              "  }\n",
              "</style>\n",
              "\n",
              "  <script>\n",
              "    async function quickchart(key) {\n",
              "      const quickchartButtonEl =\n",
              "        document.querySelector('#' + key + ' button');\n",
              "      quickchartButtonEl.disabled = true;  // To prevent multiple clicks.\n",
              "      quickchartButtonEl.classList.add('colab-df-spinner');\n",
              "      try {\n",
              "        const charts = await google.colab.kernel.invokeFunction(\n",
              "            'suggestCharts', [key], {});\n",
              "      } catch (error) {\n",
              "        console.error('Error during call to suggestCharts:', error);\n",
              "      }\n",
              "      quickchartButtonEl.classList.remove('colab-df-spinner');\n",
              "      quickchartButtonEl.classList.add('colab-df-quickchart-complete');\n",
              "    }\n",
              "    (() => {\n",
              "      let quickchartButtonEl =\n",
              "        document.querySelector('#df-24be7cd4-1de8-4706-824f-6a798d2d0c7c button');\n",
              "      quickchartButtonEl.style.display =\n",
              "        google.colab.kernel.accessAllowed ? 'block' : 'none';\n",
              "    })();\n",
              "  </script>\n",
              "</div>\n",
              "    </div>\n",
              "  </div>\n"
            ]
          },
          "metadata": {},
          "execution_count": 2
        }
      ]
    },
    {
      "cell_type": "markdown",
      "source": [
        "# Step 1: Libraries Set-up"
      ],
      "metadata": {
        "id": "E5GJAyIaRpd8"
      }
    },
    {
      "cell_type": "code",
      "source": [
        "pip install np_utils"
      ],
      "metadata": {
        "colab": {
          "base_uri": "https://localhost:8080/"
        },
        "id": "qp03-ioBR3qA",
        "outputId": "c2d8f84b-532a-4cca-c3c5-43c2a9babe58"
      },
      "execution_count": 3,
      "outputs": [
        {
          "output_type": "stream",
          "name": "stdout",
          "text": [
            "Requirement already satisfied: np_utils in /usr/local/lib/python3.10/dist-packages (0.6.0)\n",
            "Requirement already satisfied: numpy>=1.0 in /usr/local/lib/python3.10/dist-packages (from np_utils) (1.23.5)\n"
          ]
        }
      ]
    },
    {
      "cell_type": "code",
      "source": [
        "#importing the libraries\n",
        "import pandas as pd\n",
        "import numpy as np\n",
        "import string, os\n",
        "import nltk\n",
        "import re\n",
        "import keras\n",
        "import random\n",
        "#import io\n",
        "from tensorflow.keras.preprocessing.text import Tokenizer\n",
        "from tensorflow.keras import utils\n",
        "#from keras.utils import np_utils\n",
        "from keras.models import Sequential\n",
        "from keras.layers import LSTM, Dense, Dropout\n",
        "from keras.optimizers import Adamax\n",
        "import sys\n",
        "from PIL import Image\n",
        "from wordcloud import WordCloud, STOPWORDS, ImageColorGenerator\n",
        "from PIL import Image, ImageDraw, ImageFont\n",
        "import warnings\n",
        "warnings.filterwarnings(\"ignore\")"
      ],
      "metadata": {
        "id": "1c_Odv1vROZM"
      },
      "execution_count": 4,
      "outputs": []
    },
    {
      "cell_type": "markdown",
      "source": [
        "# Step 2: Data Preprocessing"
      ],
      "metadata": {
        "id": "vRcEiotwSeNK"
      }
    },
    {
      "cell_type": "code",
      "source": [
        "print(\"Artists in the data:\\n\",song.Artist.value_counts())"
      ],
      "metadata": {
        "colab": {
          "base_uri": "https://localhost:8080/"
        },
        "id": "LNrJ4nVHSgs8",
        "outputId": "b90c27ad-e607-4402-a224-493d755901d6"
      },
      "execution_count": 7,
      "outputs": [
        {
          "output_type": "stream",
          "name": "stdout",
          "text": [
            "Artists in the data:\n",
            " Taylor Swift          50\n",
            "Billy Joel            50\n",
            "Leonard Cohen         50\n",
            "Eric Clapton          50\n",
            "Billie Eilish         50\n",
            "David Bowie           50\n",
            "Bruce Springsteen     40\n",
            "The Beatles           35\n",
            "J. Cole               30\n",
            "Drake                 30\n",
            "Queen                 30\n",
            "Kendrick Lamar        30\n",
            "Eminem                30\n",
            "The Chainsmokers      30\n",
            "Rihanna               30\n",
            "George Michael        30\n",
            "Elton John            30\n",
            "Travis Scott          30\n",
            "Frank Sinatra         30\n",
            "John Denver           30\n",
            "Ray LaMontagne        30\n",
            "​twenty one pilots    30\n",
            "Nat King Cole         30\n",
            "Bryan Adams           30\n",
            "Lana Del Rey          30\n",
            "Vance Joy             30\n",
            "Fool's Garden         24\n",
            "Bob Dylan             20\n",
            "Avril Lavigne         20\n",
            "The Weeknd            20\n",
            "Ed Sheeran            20\n",
            "Coldplay              20\n",
            "Savage Garden         20\n",
            "Fall Out Boy          20\n",
            "LOLO                  20\n",
            "Name: Artist, dtype: int64\n"
          ]
        }
      ]
    },
    {
      "cell_type": "code",
      "source": [
        "rows_to_keep_per_category = 15\n",
        "\n",
        "# Reduce the number of rows for each category\n",
        "df = song.groupby('Artist').apply(lambda x: x.sample(n=rows_to_keep_per_category)).reset_index(drop=True)\n",
        "\n",
        "# Display the result\n",
        "print(df)"
      ],
      "metadata": {
        "colab": {
          "base_uri": "https://localhost:8080/"
        },
        "id": "0YFrNr8HeIt5",
        "outputId": "279d606e-1b8a-42b7-cc39-87d6dcacc9f6"
      },
      "execution_count": 5,
      "outputs": [
        {
          "output_type": "stream",
          "name": "stdout",
          "text": [
            "                 Artist                          Title  \\\n",
            "0         Avril Lavigne                    complicated   \n",
            "1         Avril Lavigne                            hot   \n",
            "2         Avril Lavigne                      sk8er boi   \n",
            "3         Avril Lavigne                everybody hurts   \n",
            "4         Avril Lavigne                          smile   \n",
            "..                  ...                            ...   \n",
            "520  ​twenty one pilots                      Car Radio   \n",
            "521  ​twenty one pilots                          Morph   \n",
            "522  ​twenty one pilots                      The Judge   \n",
            "523  ​twenty one pilots               Level of Concern   \n",
            "524  ​twenty one pilots  We Don’t Believe What’s on TV   \n",
            "\n",
            "                                                Lyrics  \n",
            "0    Uh huh, life's like this\\n Uh huh, uh huh, tha...  \n",
            "1    Ah, ah ah\\n You're so good to me baby, baby\\n ...  \n",
            "2    He was a boy.\\n She was a girl.\\n Can I make i...  \n",
            "3    Don't know, don't know if I can do this on my ...  \n",
            "4    You know that I'm a crazy b*tch\\n I do what I ...  \n",
            "..                                                 ...  \n",
            "520  I ponder of something great\\nMy lungs will fil...  \n",
            "521  Move!\\n\\nCan't stop thinking about if and when...  \n",
            "522  Na-na-na-na, ooh-oh\\nNa-na-na-na, ooh-oh\\nNa-n...  \n",
            "523  Need you, tell me\\nNeed you, tell me\\n\\nPanic ...  \n",
            "524  Yeah, yeah, yeah!\\nWe don't believe what's on ...  \n",
            "\n",
            "[525 rows x 3 columns]\n"
          ]
        }
      ]
    },
    {
      "cell_type": "code",
      "source": [
        "print(\"Artists in the data:\\n\",df.Artist.value_counts())"
      ],
      "metadata": {
        "colab": {
          "base_uri": "https://localhost:8080/"
        },
        "id": "E0Lnf2qAeSJB",
        "outputId": "db537064-9b11-4c4c-ae08-39980ab0cfc2"
      },
      "execution_count": 29,
      "outputs": [
        {
          "output_type": "stream",
          "name": "stdout",
          "text": [
            "Artists in the data:\n",
            " Avril Lavigne         10\n",
            "Rihanna               10\n",
            "LOLO                  10\n",
            "Lana Del Rey          10\n",
            "Leonard Cohen         10\n",
            "Nat King Cole         10\n",
            "Queen                 10\n",
            "Ray LaMontagne        10\n",
            "Savage Garden         10\n",
            "John Denver           10\n",
            "Taylor Swift          10\n",
            "The Beatles           10\n",
            "The Chainsmokers      10\n",
            "The Weeknd            10\n",
            "Travis Scott          10\n",
            "Vance Joy             10\n",
            "Kendrick Lamar        10\n",
            "J. Cole               10\n",
            "Billie Eilish         10\n",
            "Drake                 10\n",
            "Billy Joel            10\n",
            "Bob Dylan             10\n",
            "Bruce Springsteen     10\n",
            "Bryan Adams           10\n",
            "Coldplay              10\n",
            "David Bowie           10\n",
            "Ed Sheeran            10\n",
            "George Michael        10\n",
            "Elton John            10\n",
            "Eminem                10\n",
            "Eric Clapton          10\n",
            "Fall Out Boy          10\n",
            "Fool's Garden         10\n",
            "Frank Sinatra         10\n",
            "​twenty one pilots    10\n",
            "Name: Artist, dtype: int64\n"
          ]
        }
      ]
    },
    {
      "cell_type": "code",
      "source": [
        "df['song'] = df['Artist'] + ' song below\\n' + df['Lyrics']"
      ],
      "metadata": {
        "id": "oZbacClBTiYn"
      },
      "execution_count": 42,
      "outputs": []
    },
    {
      "cell_type": "code",
      "source": [
        "song['song'] = song['Artist'] + ' song below\\n' + song['Lyrics']"
      ],
      "metadata": {
        "id": "tAxNxcjJhlBv"
      },
      "execution_count": 99,
      "outputs": []
    },
    {
      "cell_type": "code",
      "source": [
        "df"
      ],
      "metadata": {
        "colab": {
          "base_uri": "https://localhost:8080/",
          "height": 528
        },
        "id": "dxDVomsaUFlv",
        "outputId": "30cf7f25-286d-4a84-b9f9-1b4607e1c756"
      },
      "execution_count": 8,
      "outputs": [
        {
          "output_type": "execute_result",
          "data": {
            "text/plain": [
              "                 Artist                    Title  \\\n",
              "0         Avril Lavigne  everything back but you   \n",
              "1         Avril Lavigne              complicated   \n",
              "2         Avril Lavigne         head above water   \n",
              "3         Billie Eilish                      NDA   \n",
              "4         Billie Eilish      ​​come out and play   \n",
              "..                  ...                      ...   \n",
              "100           Vance Joy                  Emmylou   \n",
              "101           Vance Joy          Winds of Change   \n",
              "102  ​twenty one pilots         Level of Concern   \n",
              "103  ​twenty one pilots         Neon Gravestones   \n",
              "104  ​twenty one pilots      Nico And The Niners   \n",
              "\n",
              "                                                Lyrics  \\\n",
              "0    Today was the worst day, I went through hell\\n...   \n",
              "1    Uh huh, life's like this\\n Uh huh, uh huh, tha...   \n",
              "2    I've gotta keep the calm before the storm\\n I ...   \n",
              "3    Did you think I'd show up in a limousine? (No)...   \n",
              "4    Hmm-mm\\n\\nWake up and smell the coffee\\nIs you...   \n",
              "..                                                 ...   \n",
              "100  Oh, if you're losing sleep\\nOh, if you're losi...   \n",
              "101  I miss you more than you could know\\nI watch t...   \n",
              "102  Need you, tell me\\nNeed you, tell me\\n\\nPanic ...   \n",
              "103  Call (Call)\\nCall (Call)\\nCall (Call)\\n\\nWhat'...   \n",
              "104  Msilaiv ecnuoned ew\\nTsae eurt daeh dna amed e...   \n",
              "\n",
              "                                                  song  \n",
              "0    Avril Lavigne song below\\nToday was the worst ...  \n",
              "1    Avril Lavigne song below\\nUh huh, life's like ...  \n",
              "2    Avril Lavigne song below\\nI've gotta keep the ...  \n",
              "3    Billie Eilish song below\\nDid you think I'd sh...  \n",
              "4    Billie Eilish song below\\nHmm-mm\\n\\nWake up an...  \n",
              "..                                                 ...  \n",
              "100  Vance Joy song below\\nOh, if you're losing sle...  \n",
              "101  Vance Joy song below\\nI miss you more than you...  \n",
              "102  ​twenty one pilots song below\\nNeed you, tell ...  \n",
              "103  ​twenty one pilots song below\\nCall (Call)\\nCa...  \n",
              "104  ​twenty one pilots song below\\nMsilaiv ecnuone...  \n",
              "\n",
              "[105 rows x 4 columns]"
            ],
            "text/html": [
              "\n",
              "  <div id=\"df-a5c461c7-33c3-482c-85cf-90e2e8de98dc\" class=\"colab-df-container\">\n",
              "    <div>\n",
              "<style scoped>\n",
              "    .dataframe tbody tr th:only-of-type {\n",
              "        vertical-align: middle;\n",
              "    }\n",
              "\n",
              "    .dataframe tbody tr th {\n",
              "        vertical-align: top;\n",
              "    }\n",
              "\n",
              "    .dataframe thead th {\n",
              "        text-align: right;\n",
              "    }\n",
              "</style>\n",
              "<table border=\"1\" class=\"dataframe\">\n",
              "  <thead>\n",
              "    <tr style=\"text-align: right;\">\n",
              "      <th></th>\n",
              "      <th>Artist</th>\n",
              "      <th>Title</th>\n",
              "      <th>Lyrics</th>\n",
              "      <th>song</th>\n",
              "    </tr>\n",
              "  </thead>\n",
              "  <tbody>\n",
              "    <tr>\n",
              "      <th>0</th>\n",
              "      <td>Avril Lavigne</td>\n",
              "      <td>everything back but you</td>\n",
              "      <td>Today was the worst day, I went through hell\\n...</td>\n",
              "      <td>Avril Lavigne song below\\nToday was the worst ...</td>\n",
              "    </tr>\n",
              "    <tr>\n",
              "      <th>1</th>\n",
              "      <td>Avril Lavigne</td>\n",
              "      <td>complicated</td>\n",
              "      <td>Uh huh, life's like this\\n Uh huh, uh huh, tha...</td>\n",
              "      <td>Avril Lavigne song below\\nUh huh, life's like ...</td>\n",
              "    </tr>\n",
              "    <tr>\n",
              "      <th>2</th>\n",
              "      <td>Avril Lavigne</td>\n",
              "      <td>head above water</td>\n",
              "      <td>I've gotta keep the calm before the storm\\n I ...</td>\n",
              "      <td>Avril Lavigne song below\\nI've gotta keep the ...</td>\n",
              "    </tr>\n",
              "    <tr>\n",
              "      <th>3</th>\n",
              "      <td>Billie Eilish</td>\n",
              "      <td>NDA</td>\n",
              "      <td>Did you think I'd show up in a limousine? (No)...</td>\n",
              "      <td>Billie Eilish song below\\nDid you think I'd sh...</td>\n",
              "    </tr>\n",
              "    <tr>\n",
              "      <th>4</th>\n",
              "      <td>Billie Eilish</td>\n",
              "      <td>​​come out and play</td>\n",
              "      <td>Hmm-mm\\n\\nWake up and smell the coffee\\nIs you...</td>\n",
              "      <td>Billie Eilish song below\\nHmm-mm\\n\\nWake up an...</td>\n",
              "    </tr>\n",
              "    <tr>\n",
              "      <th>...</th>\n",
              "      <td>...</td>\n",
              "      <td>...</td>\n",
              "      <td>...</td>\n",
              "      <td>...</td>\n",
              "    </tr>\n",
              "    <tr>\n",
              "      <th>100</th>\n",
              "      <td>Vance Joy</td>\n",
              "      <td>Emmylou</td>\n",
              "      <td>Oh, if you're losing sleep\\nOh, if you're losi...</td>\n",
              "      <td>Vance Joy song below\\nOh, if you're losing sle...</td>\n",
              "    </tr>\n",
              "    <tr>\n",
              "      <th>101</th>\n",
              "      <td>Vance Joy</td>\n",
              "      <td>Winds of Change</td>\n",
              "      <td>I miss you more than you could know\\nI watch t...</td>\n",
              "      <td>Vance Joy song below\\nI miss you more than you...</td>\n",
              "    </tr>\n",
              "    <tr>\n",
              "      <th>102</th>\n",
              "      <td>​twenty one pilots</td>\n",
              "      <td>Level of Concern</td>\n",
              "      <td>Need you, tell me\\nNeed you, tell me\\n\\nPanic ...</td>\n",
              "      <td>​twenty one pilots song below\\nNeed you, tell ...</td>\n",
              "    </tr>\n",
              "    <tr>\n",
              "      <th>103</th>\n",
              "      <td>​twenty one pilots</td>\n",
              "      <td>Neon Gravestones</td>\n",
              "      <td>Call (Call)\\nCall (Call)\\nCall (Call)\\n\\nWhat'...</td>\n",
              "      <td>​twenty one pilots song below\\nCall (Call)\\nCa...</td>\n",
              "    </tr>\n",
              "    <tr>\n",
              "      <th>104</th>\n",
              "      <td>​twenty one pilots</td>\n",
              "      <td>Nico And The Niners</td>\n",
              "      <td>Msilaiv ecnuoned ew\\nTsae eurt daeh dna amed e...</td>\n",
              "      <td>​twenty one pilots song below\\nMsilaiv ecnuone...</td>\n",
              "    </tr>\n",
              "  </tbody>\n",
              "</table>\n",
              "<p>105 rows × 4 columns</p>\n",
              "</div>\n",
              "    <div class=\"colab-df-buttons\">\n",
              "\n",
              "  <div class=\"colab-df-container\">\n",
              "    <button class=\"colab-df-convert\" onclick=\"convertToInteractive('df-a5c461c7-33c3-482c-85cf-90e2e8de98dc')\"\n",
              "            title=\"Convert this dataframe to an interactive table.\"\n",
              "            style=\"display:none;\">\n",
              "\n",
              "  <svg xmlns=\"http://www.w3.org/2000/svg\" height=\"24px\" viewBox=\"0 -960 960 960\">\n",
              "    <path d=\"M120-120v-720h720v720H120Zm60-500h600v-160H180v160Zm220 220h160v-160H400v160Zm0 220h160v-160H400v160ZM180-400h160v-160H180v160Zm440 0h160v-160H620v160ZM180-180h160v-160H180v160Zm440 0h160v-160H620v160Z\"/>\n",
              "  </svg>\n",
              "    </button>\n",
              "\n",
              "  <style>\n",
              "    .colab-df-container {\n",
              "      display:flex;\n",
              "      gap: 12px;\n",
              "    }\n",
              "\n",
              "    .colab-df-convert {\n",
              "      background-color: #E8F0FE;\n",
              "      border: none;\n",
              "      border-radius: 50%;\n",
              "      cursor: pointer;\n",
              "      display: none;\n",
              "      fill: #1967D2;\n",
              "      height: 32px;\n",
              "      padding: 0 0 0 0;\n",
              "      width: 32px;\n",
              "    }\n",
              "\n",
              "    .colab-df-convert:hover {\n",
              "      background-color: #E2EBFA;\n",
              "      box-shadow: 0px 1px 2px rgba(60, 64, 67, 0.3), 0px 1px 3px 1px rgba(60, 64, 67, 0.15);\n",
              "      fill: #174EA6;\n",
              "    }\n",
              "\n",
              "    .colab-df-buttons div {\n",
              "      margin-bottom: 4px;\n",
              "    }\n",
              "\n",
              "    [theme=dark] .colab-df-convert {\n",
              "      background-color: #3B4455;\n",
              "      fill: #D2E3FC;\n",
              "    }\n",
              "\n",
              "    [theme=dark] .colab-df-convert:hover {\n",
              "      background-color: #434B5C;\n",
              "      box-shadow: 0px 1px 3px 1px rgba(0, 0, 0, 0.15);\n",
              "      filter: drop-shadow(0px 1px 2px rgba(0, 0, 0, 0.3));\n",
              "      fill: #FFFFFF;\n",
              "    }\n",
              "  </style>\n",
              "\n",
              "    <script>\n",
              "      const buttonEl =\n",
              "        document.querySelector('#df-a5c461c7-33c3-482c-85cf-90e2e8de98dc button.colab-df-convert');\n",
              "      buttonEl.style.display =\n",
              "        google.colab.kernel.accessAllowed ? 'block' : 'none';\n",
              "\n",
              "      async function convertToInteractive(key) {\n",
              "        const element = document.querySelector('#df-a5c461c7-33c3-482c-85cf-90e2e8de98dc');\n",
              "        const dataTable =\n",
              "          await google.colab.kernel.invokeFunction('convertToInteractive',\n",
              "                                                    [key], {});\n",
              "        if (!dataTable) return;\n",
              "\n",
              "        const docLinkHtml = 'Like what you see? Visit the ' +\n",
              "          '<a target=\"_blank\" href=https://colab.research.google.com/notebooks/data_table.ipynb>data table notebook</a>'\n",
              "          + ' to learn more about interactive tables.';\n",
              "        element.innerHTML = '';\n",
              "        dataTable['output_type'] = 'display_data';\n",
              "        await google.colab.output.renderOutput(dataTable, element);\n",
              "        const docLink = document.createElement('div');\n",
              "        docLink.innerHTML = docLinkHtml;\n",
              "        element.appendChild(docLink);\n",
              "      }\n",
              "    </script>\n",
              "  </div>\n",
              "\n",
              "\n",
              "<div id=\"df-2aec13c9-f2db-4a97-b744-f04a5a7ef67d\">\n",
              "  <button class=\"colab-df-quickchart\" onclick=\"quickchart('df-2aec13c9-f2db-4a97-b744-f04a5a7ef67d')\"\n",
              "            title=\"Suggest charts\"\n",
              "            style=\"display:none;\">\n",
              "\n",
              "<svg xmlns=\"http://www.w3.org/2000/svg\" height=\"24px\"viewBox=\"0 0 24 24\"\n",
              "     width=\"24px\">\n",
              "    <g>\n",
              "        <path d=\"M19 3H5c-1.1 0-2 .9-2 2v14c0 1.1.9 2 2 2h14c1.1 0 2-.9 2-2V5c0-1.1-.9-2-2-2zM9 17H7v-7h2v7zm4 0h-2V7h2v10zm4 0h-2v-4h2v4z\"/>\n",
              "    </g>\n",
              "</svg>\n",
              "  </button>\n",
              "\n",
              "<style>\n",
              "  .colab-df-quickchart {\n",
              "      --bg-color: #E8F0FE;\n",
              "      --fill-color: #1967D2;\n",
              "      --hover-bg-color: #E2EBFA;\n",
              "      --hover-fill-color: #174EA6;\n",
              "      --disabled-fill-color: #AAA;\n",
              "      --disabled-bg-color: #DDD;\n",
              "  }\n",
              "\n",
              "  [theme=dark] .colab-df-quickchart {\n",
              "      --bg-color: #3B4455;\n",
              "      --fill-color: #D2E3FC;\n",
              "      --hover-bg-color: #434B5C;\n",
              "      --hover-fill-color: #FFFFFF;\n",
              "      --disabled-bg-color: #3B4455;\n",
              "      --disabled-fill-color: #666;\n",
              "  }\n",
              "\n",
              "  .colab-df-quickchart {\n",
              "    background-color: var(--bg-color);\n",
              "    border: none;\n",
              "    border-radius: 50%;\n",
              "    cursor: pointer;\n",
              "    display: none;\n",
              "    fill: var(--fill-color);\n",
              "    height: 32px;\n",
              "    padding: 0;\n",
              "    width: 32px;\n",
              "  }\n",
              "\n",
              "  .colab-df-quickchart:hover {\n",
              "    background-color: var(--hover-bg-color);\n",
              "    box-shadow: 0 1px 2px rgba(60, 64, 67, 0.3), 0 1px 3px 1px rgba(60, 64, 67, 0.15);\n",
              "    fill: var(--button-hover-fill-color);\n",
              "  }\n",
              "\n",
              "  .colab-df-quickchart-complete:disabled,\n",
              "  .colab-df-quickchart-complete:disabled:hover {\n",
              "    background-color: var(--disabled-bg-color);\n",
              "    fill: var(--disabled-fill-color);\n",
              "    box-shadow: none;\n",
              "  }\n",
              "\n",
              "  .colab-df-spinner {\n",
              "    border: 2px solid var(--fill-color);\n",
              "    border-color: transparent;\n",
              "    border-bottom-color: var(--fill-color);\n",
              "    animation:\n",
              "      spin 1s steps(1) infinite;\n",
              "  }\n",
              "\n",
              "  @keyframes spin {\n",
              "    0% {\n",
              "      border-color: transparent;\n",
              "      border-bottom-color: var(--fill-color);\n",
              "      border-left-color: var(--fill-color);\n",
              "    }\n",
              "    20% {\n",
              "      border-color: transparent;\n",
              "      border-left-color: var(--fill-color);\n",
              "      border-top-color: var(--fill-color);\n",
              "    }\n",
              "    30% {\n",
              "      border-color: transparent;\n",
              "      border-left-color: var(--fill-color);\n",
              "      border-top-color: var(--fill-color);\n",
              "      border-right-color: var(--fill-color);\n",
              "    }\n",
              "    40% {\n",
              "      border-color: transparent;\n",
              "      border-right-color: var(--fill-color);\n",
              "      border-top-color: var(--fill-color);\n",
              "    }\n",
              "    60% {\n",
              "      border-color: transparent;\n",
              "      border-right-color: var(--fill-color);\n",
              "    }\n",
              "    80% {\n",
              "      border-color: transparent;\n",
              "      border-right-color: var(--fill-color);\n",
              "      border-bottom-color: var(--fill-color);\n",
              "    }\n",
              "    90% {\n",
              "      border-color: transparent;\n",
              "      border-bottom-color: var(--fill-color);\n",
              "    }\n",
              "  }\n",
              "</style>\n",
              "\n",
              "  <script>\n",
              "    async function quickchart(key) {\n",
              "      const quickchartButtonEl =\n",
              "        document.querySelector('#' + key + ' button');\n",
              "      quickchartButtonEl.disabled = true;  // To prevent multiple clicks.\n",
              "      quickchartButtonEl.classList.add('colab-df-spinner');\n",
              "      try {\n",
              "        const charts = await google.colab.kernel.invokeFunction(\n",
              "            'suggestCharts', [key], {});\n",
              "      } catch (error) {\n",
              "        console.error('Error during call to suggestCharts:', error);\n",
              "      }\n",
              "      quickchartButtonEl.classList.remove('colab-df-spinner');\n",
              "      quickchartButtonEl.classList.add('colab-df-quickchart-complete');\n",
              "    }\n",
              "    (() => {\n",
              "      let quickchartButtonEl =\n",
              "        document.querySelector('#df-2aec13c9-f2db-4a97-b744-f04a5a7ef67d button');\n",
              "      quickchartButtonEl.style.display =\n",
              "        google.colab.kernel.accessAllowed ? 'block' : 'none';\n",
              "    })();\n",
              "  </script>\n",
              "</div>\n",
              "    </div>\n",
              "  </div>\n"
            ]
          },
          "metadata": {},
          "execution_count": 8
        }
      ]
    },
    {
      "cell_type": "code",
      "source": [
        "Corpus =''\n",
        "for listitem in df.song:\n",
        "    Corpus += listitem\n",
        "\n",
        "Corpus = Corpus.lower() #converting all alphabets to lowecase\n",
        "print(\"Number of unique characters:\", len(set(Corpus)))\n",
        "print(len(Corpus))"
      ],
      "metadata": {
        "colab": {
          "base_uri": "https://localhost:8080/"
        },
        "id": "Xd94NUa3Soo3",
        "outputId": "b2135872-857d-47f9-dc65-72cd76e8a972"
      },
      "execution_count": 31,
      "outputs": [
        {
          "output_type": "stream",
          "name": "stdout",
          "text": [
            "Number of unique characters: 82\n",
            "608985\n"
          ]
        }
      ]
    },
    {
      "cell_type": "code",
      "source": [
        "Corpus =''\n",
        "for listitem in song.song:\n",
        "    Corpus += listitem\n",
        "\n",
        "Corpus = Corpus.lower() #converting all alphabets to lowecase\n",
        "print(\"Number of unique characters:\", len(set(Corpus)))\n",
        "print(Corpus[:1000])"
      ],
      "metadata": {
        "colab": {
          "base_uri": "https://localhost:8080/"
        },
        "id": "b6_hUNTqhprY",
        "outputId": "545172a5-5fc9-4143-a495-f5d69973ab0c"
      },
      "execution_count": 100,
      "outputs": [
        {
          "output_type": "stream",
          "name": "stdout",
          "text": [
            "Number of unique characters: 97\n",
            "taylor swift song below\n",
            "vintage tee, brand new phone\n",
            "high heels on cobblestones\n",
            "when you are young, they assume you know nothing\n",
            "sequin smile, black lipstick\n",
            "sensual politics\n",
            "when you are young, they assume you know nothing\n",
            "\n",
            "but i knew you\n",
            "dancin' in your levi's\n",
            "drunk under a streetlight, i\n",
            "i knew you\n",
            "hand under my sweatshirt\n",
            "baby, kiss it better, i\n",
            "\n",
            "and when i felt like i was an old cardigan\n",
            "under someone's bed\n",
            "you put me on and said i was your favorite\n",
            "\n",
            "a friend to all is a friend to none\n",
            "chase two girls, lose the one\n",
            "when you are young, they assume you know nothing\n",
            "but i knew you\n",
            "playing hide-and-seek and\n",
            "giving me your weekends, i\n",
            "i knew you\n",
            "your heartbeat on the high line\n",
            "once in twenty lifetimes, i\n",
            "\n",
            "and when i felt like i was an old cardigan\n",
            "under someone's bed\n",
            "you put me on and said i was your favorite\n",
            "\n",
            "to kiss in cars and downtown bars\n",
            "was all we needed\n",
            "you drew stars around my scars\n",
            "but now i'm bleedin'\n",
            "\n",
            "'cause i knew you\n",
            "steppin' on the last train\n",
            "marked me like a bloodstain,\n"
          ]
        }
      ]
    },
    {
      "cell_type": "code",
      "source": [
        "#To See all the unique characters present in the Corpus\n",
        "print(\"The unique characters:\",sorted(set(Corpus)))"
      ],
      "metadata": {
        "colab": {
          "base_uri": "https://localhost:8080/"
        },
        "id": "5hbPuqMnTKzk",
        "outputId": "a3cd9dbb-90c5-4640-a102-e1887adf2f03"
      },
      "execution_count": 23,
      "outputs": [
        {
          "output_type": "stream",
          "name": "stdout",
          "text": [
            "The unique characters: ['\\n', ' ', '!', '\"', '&', \"'\", '(', ')', '*', ',', '-', '.', '0', '1', '2', '3', '4', '5', '6', '7', '8', '9', ':', ';', '?', '[', ']', 'a', 'b', 'c', 'd', 'e', 'f', 'g', 'h', 'i', 'j', 'k', 'l', 'm', 'n', 'o', 'p', 'q', 'r', 's', 't', 'u', 'v', 'w', 'x', 'y', 'z', '¡', 'à', 'á', 'ç', 'é', 'е', '\\u2005', '\\u200b', '–', '—', '‘', '’', '”', '…', '\\u205f']\n"
          ]
        }
      ]
    },
    {
      "cell_type": "code",
      "source": [
        "# remove the strange characters\n",
        "remove_lst = ['©', 'à', 'á', 'ã', 'ä', 'ç', 'è', 'é', 'ê', 'ë', 'í', 'ñ', 'ó', 'ö', 'ú', 'ü', 'ŏ', 'е', 'ا', 'س', 'ل', 'م', 'و', '\\u2005', '\\u200a', '\\u200b', '…', '\\u205f', '\\ufeff']\n",
        "\n",
        "for symbol in remove_lst:\n",
        "    text = Corpus.replace(symbol,\" \")"
      ],
      "metadata": {
        "id": "Ic-zOep5T20M"
      },
      "execution_count": 32,
      "outputs": []
    },
    {
      "cell_type": "code",
      "source": [
        "chars = set([c for c in text])\n",
        "nb_chars = len(chars)\n",
        "char2index = dict((c, i) for i, c in enumerate(chars))\n",
        "index2char = dict((i, c) for i, c in enumerate(chars))"
      ],
      "metadata": {
        "id": "kNBNI1HMi2oD"
      },
      "execution_count": 33,
      "outputs": []
    },
    {
      "cell_type": "code",
      "source": [
        "SEQLEN = 100\n",
        "STEP = 1"
      ],
      "metadata": {
        "id": "eLHBQvBLmB_C"
      },
      "execution_count": 10,
      "outputs": []
    },
    {
      "cell_type": "code",
      "source": [
        "input_chars = []\n",
        "label_chars = []\n",
        "for i in range(0, len(text) - SEQLEN, STEP):\n",
        "    input_chars.append(text[i:i + SEQLEN])\n",
        "    label_chars.append(text[i + SEQLEN])"
      ],
      "metadata": {
        "id": "N2VGofsMmHNM"
      },
      "execution_count": 11,
      "outputs": []
    },
    {
      "cell_type": "code",
      "source": [
        "X = np.zeros((len(input_chars), SEQLEN, nb_chars), dtype=np.bool)\n",
        "y = np.zeros((len(input_chars), nb_chars), dtype=np.bool)\n",
        "for i, input_char in enumerate(input_chars):\n",
        "    for j, ch in enumerate(input_char):\n",
        "        X[i, j, char2index[ch]] = 1\n",
        "    y[i, char2index[label_chars[i]]] = 1"
      ],
      "metadata": {
        "id": "gwEpJwONmPl3"
      },
      "execution_count": 12,
      "outputs": []
    },
    {
      "cell_type": "markdown",
      "source": [
        "# Step 3: Model Building"
      ],
      "metadata": {
        "id": "Vly99RunWXL1"
      }
    },
    {
      "cell_type": "code",
      "source": [
        "print(X.shape[2])"
      ],
      "metadata": {
        "colab": {
          "base_uri": "https://localhost:8080/"
        },
        "id": "Gu_uqG8Jn-JZ",
        "outputId": "b77dcc2d-8794-450a-bbd4-7053d4c6f7f5"
      },
      "execution_count": 15,
      "outputs": [
        {
          "output_type": "stream",
          "name": "stdout",
          "text": [
            "78\n"
          ]
        }
      ]
    },
    {
      "cell_type": "code",
      "source": [
        "model = Sequential()\n",
        "#Adding layers\n",
        "model.add(LSTM(256, input_shape=(15, 1)))\n",
        "model.add(Dense(y.shape[1], activation='softmax'))\n",
        "#Compiling the model for training\n",
        "opt = Adamax(learning_rate=0.01)\n",
        "model.compile(loss='categorical_crossentropy', optimizer=opt)\n",
        "\n",
        "#Model's Summary\n",
        "model.summary()"
      ],
      "metadata": {
        "colab": {
          "base_uri": "https://localhost:8080/"
        },
        "id": "hWIdlzwSnkB0",
        "outputId": "69389094-6e1e-4110-e26d-97f24afc3af5"
      },
      "execution_count": 21,
      "outputs": [
        {
          "output_type": "stream",
          "name": "stdout",
          "text": [
            "Model: \"sequential_2\"\n",
            "_________________________________________________________________\n",
            " Layer (type)                Output Shape              Param #   \n",
            "=================================================================\n",
            " lstm_1 (LSTM)               (None, 256)               264192    \n",
            "                                                                 \n",
            " dense_1 (Dense)             (None, 78)                20046     \n",
            "                                                                 \n",
            "=================================================================\n",
            "Total params: 284238 (1.08 MB)\n",
            "Trainable params: 284238 (1.08 MB)\n",
            "Non-trainable params: 0 (0.00 Byte)\n",
            "_________________________________________________________________\n"
          ]
        }
      ]
    },
    {
      "cell_type": "code",
      "source": [
        "def generator(starter,Ch_count): #,temperature=1.0):\n",
        "    generated= \"\"\n",
        "    starter = starter\n",
        "    seed=[char2index[char] for char in starter]\n",
        "    generated += starter\n",
        "    # Generating new text of given length\n",
        "    for i in range(Ch_count):\n",
        "        seed=[char2index[char] for char in starter]\n",
        "        x_pred = np.reshape(seed, (1, len(seed), 1))\n",
        "        x_pred = x_pred/ float(nb_chars)\n",
        "        prediction = model.predict(x_pred, verbose=0)[0]\n",
        "        # Getting the index of the next most probable index\n",
        "        prediction = np.asarray(prediction).astype('float64')\n",
        "        prediction = np.log(prediction) / 1.0\n",
        "        exp_preds = np.exp(prediction)\n",
        "        prediction = exp_preds / np.sum(exp_preds)\n",
        "        probas = np.random.multinomial(1, prediction, 1)\n",
        "        index = np.argmax(prediction)\n",
        "        next_char = index2char[index]\n",
        "        # Generating new text\n",
        "        generated += next_char\n",
        "        starter = starter[1:] + next_char\n",
        "\n",
        "    return generated"
      ],
      "metadata": {
        "id": "s-UHdRNUoG7a"
      },
      "execution_count": 24,
      "outputs": []
    },
    {
      "cell_type": "code",
      "source": [
        "songs = generator(\"$taylor swift$\\n\", 400)\n",
        "#Let's have a look at the song\n",
        "songs"
      ],
      "metadata": {
        "colab": {
          "base_uri": "https://localhost:8080/",
          "height": 89
        },
        "id": "yXVyBiZsoPQe",
        "outputId": "b238db3b-7b03-4533-9221-c12c5c3b2fed"
      },
      "execution_count": 25,
      "outputs": [
        {
          "output_type": "execute_result",
          "data": {
            "text/plain": [
              "'$taylor swift$\\nddddd6666666666ddddddddddddddddddddddddddddddddddddddddddddddddddddddddddddddddddddddddddddddddddddddddddddddddddddddddddddddddddddddddddddddddddddddddddddddddddddddddddddddddddddddddddddddddddddddddddddddddddddddddddddddddddddddddddddddddddddddddddddddddddddddddddddddddddddddddddddddddddddddddddddddddddddddddddddddddddddddddddddddddddddddddddddddddddddddddddddddddddddddddddddddddddddddddddddddddd'"
            ],
            "application/vnd.google.colaboratory.intrinsic+json": {
              "type": "string"
            }
          },
          "metadata": {},
          "execution_count": 25
        }
      ]
    },
    {
      "cell_type": "markdown",
      "source": [
        "# New Approach"
      ],
      "metadata": {
        "id": "1lvPTOIpphdI"
      }
    },
    {
      "cell_type": "code",
      "source": [
        "import tensorflow as tf\n",
        "vocab = sorted(set(text))\n",
        "\n",
        "# Map each unique char to a different index\n",
        "char2idx = {u: i for i, u in enumerate(vocab)}\n",
        "# Map the index to the respective char\n",
        "idx2char = np.array(vocab)\n",
        "# Convert all the text to indices\n",
        "text_as_int = np.array([char2idx[c] for c in text])\n",
        "\n",
        "# Maximum length sentence we want for a single input\n",
        "seq_length = 100\n",
        "\n",
        "# Create training examples / targets\n",
        "char_dataset = tf.data.Dataset.from_tensor_slices(text_as_int)\n",
        "sequences = char_dataset.batch(seq_length + 1, drop_remainder=True)"
      ],
      "metadata": {
        "id": "8mRmruDcsNXY"
      },
      "execution_count": 78,
      "outputs": []
    },
    {
      "cell_type": "code",
      "source": [
        "def split_input_target(chunk):\n",
        "    ''' Creates an input and target example for each sequence'''\n",
        "    input_text = chunk[:-1]  # Removes the last character\n",
        "    target_text = chunk[1:]  # Removes the first character\n",
        "    return input_text, target_text\n",
        "\n",
        "dataset = sequences.map(split_input_target)"
      ],
      "metadata": {
        "id": "_6C9YdMmsPEz"
      },
      "execution_count": 79,
      "outputs": []
    },
    {
      "cell_type": "code",
      "source": [
        "for input_example, target_example in  dataset.take(1):\n",
        "  print ('Input data: ', repr(''.join(idx2char[input_example.numpy()])))\n",
        "  print ('Target data:', repr(''.join(idx2char[target_example.numpy()])))"
      ],
      "metadata": {
        "colab": {
          "base_uri": "https://localhost:8080/"
        },
        "id": "CXeMqSXRsy5y",
        "outputId": "e9c293e1-12ed-4738-d417-b15b4745da14"
      },
      "execution_count": 80,
      "outputs": [
        {
          "output_type": "stream",
          "name": "stdout",
          "text": [
            "Input data:  'taylor swift song below\\nvintage tee, brand new phone\\nhigh heels on cobblestones\\nwhen you are young, '\n",
            "Target data: 'aylor swift song below\\nvintage tee, brand new phone\\nhigh heels on cobblestones\\nwhen you are young, t'\n"
          ]
        }
      ]
    },
    {
      "cell_type": "code",
      "source": [
        "BATCH_SIZE = 64\n",
        "BUFFER_SIZE = 10000\n",
        "# Suffle the dataset and get batches\n",
        "dataset = dataset.shuffle(BUFFER_SIZE).batch(BATCH_SIZE, drop_remainder=True)"
      ],
      "metadata": {
        "id": "EEQyTg6Zs5XT"
      },
      "execution_count": 81,
      "outputs": []
    },
    {
      "cell_type": "code",
      "source": [
        "vocab_size = len(vocab)\n",
        "embedding_dim = 256\n",
        "rnn_units = 80"
      ],
      "metadata": {
        "id": "NVoAOkGvs9y7"
      },
      "execution_count": 82,
      "outputs": []
    },
    {
      "cell_type": "code",
      "source": [
        "def build_model(vocab_size, embedding_dim, rnn_units, batch_size):\n",
        "    ''' Builds a simple sequencial 3 layers model '''\n",
        "    model = tf.keras.Sequential([\n",
        "        tf.keras.layers.Embedding(vocab_size, embedding_dim,\n",
        "                                  batch_input_shape=[batch_size, None]),\n",
        "        tf.keras.layers.LSTM(rnn_units,return_sequences=True),\n",
        "        tf.keras.layers.Dense(vocab_size, activation=\"softmax\")])\n",
        "    return model"
      ],
      "metadata": {
        "id": "vqWtz7T7tAE2"
      },
      "execution_count": 83,
      "outputs": []
    },
    {
      "cell_type": "code",
      "source": [
        "model = build_model(vocab_size=vocab_size,\n",
        "                    embedding_dim=embedding_dim,\n",
        "                    rnn_units=rnn_units,\n",
        "                    batch_size=BATCH_SIZE)"
      ],
      "metadata": {
        "id": "kzTn_V9KtKxW"
      },
      "execution_count": 84,
      "outputs": []
    },
    {
      "cell_type": "code",
      "source": [
        "model.summary()"
      ],
      "metadata": {
        "colab": {
          "base_uri": "https://localhost:8080/"
        },
        "id": "VxYIaxu9tNfk",
        "outputId": "4569a035-1d72-4984-b0bf-412edf07b23f"
      },
      "execution_count": 85,
      "outputs": [
        {
          "output_type": "stream",
          "name": "stdout",
          "text": [
            "Model: \"sequential_11\"\n",
            "_________________________________________________________________\n",
            " Layer (type)                Output Shape              Param #   \n",
            "=================================================================\n",
            " embedding_8 (Embedding)     (64, None, 256)           24576     \n",
            "                                                                 \n",
            " lstm_8 (LSTM)               (64, None, 80)            107840    \n",
            "                                                                 \n",
            " dense_10 (Dense)            (64, None, 96)            7776      \n",
            "                                                                 \n",
            "=================================================================\n",
            "Total params: 140192 (547.62 KB)\n",
            "Trainable params: 140192 (547.62 KB)\n",
            "Non-trainable params: 0 (0.00 Byte)\n",
            "_________________________________________________________________\n"
          ]
        }
      ]
    },
    {
      "cell_type": "code",
      "source": [
        "model.compile(optimizer='adam', loss=\"sparse_categorical_crossentropy\", metrics=[\"accuracy\"])"
      ],
      "metadata": {
        "id": "wTtKsysPtPRG"
      },
      "execution_count": 86,
      "outputs": []
    },
    {
      "cell_type": "code",
      "source": [
        "EPOCHS = 30\n",
        "# Train the model\n",
        "#callback = keras.callbacks.EarlyStopping(monitor='val_loss', patience=3)\n",
        "history = model.fit(dataset, epochs=EPOCHS)"
      ],
      "metadata": {
        "colab": {
          "base_uri": "https://localhost:8080/"
        },
        "id": "hNpA6FiNtRVI",
        "outputId": "b47d8381-592e-4b68-8234-8905380186f7"
      },
      "execution_count": 87,
      "outputs": [
        {
          "output_type": "stream",
          "name": "stdout",
          "text": [
            "Epoch 1/30\n",
            "288/288 [==============================] - 6s 11ms/step - loss: 2.8378 - accuracy: 0.2352\n",
            "Epoch 2/30\n",
            "288/288 [==============================] - 3s 7ms/step - loss: 2.3157 - accuracy: 0.3283\n",
            "Epoch 3/30\n",
            "288/288 [==============================] - 3s 7ms/step - loss: 2.1646 - accuracy: 0.3666\n",
            "Epoch 4/30\n",
            "288/288 [==============================] - 3s 7ms/step - loss: 2.0707 - accuracy: 0.3896\n",
            "Epoch 5/30\n",
            "288/288 [==============================] - 3s 7ms/step - loss: 2.0026 - accuracy: 0.4112\n",
            "Epoch 6/30\n",
            "288/288 [==============================] - 3s 7ms/step - loss: 1.9486 - accuracy: 0.4291\n",
            "Epoch 7/30\n",
            "288/288 [==============================] - 3s 7ms/step - loss: 1.9044 - accuracy: 0.4420\n",
            "Epoch 8/30\n",
            "288/288 [==============================] - 3s 8ms/step - loss: 1.8653 - accuracy: 0.4501\n",
            "Epoch 9/30\n",
            "288/288 [==============================] - 3s 7ms/step - loss: 1.8303 - accuracy: 0.4572\n",
            "Epoch 10/30\n",
            "288/288 [==============================] - 3s 7ms/step - loss: 1.7991 - accuracy: 0.4642\n",
            "Epoch 11/30\n",
            "288/288 [==============================] - 3s 7ms/step - loss: 1.7719 - accuracy: 0.4709\n",
            "Epoch 12/30\n",
            "288/288 [==============================] - 3s 7ms/step - loss: 1.7480 - accuracy: 0.4774\n",
            "Epoch 13/30\n",
            "288/288 [==============================] - 3s 7ms/step - loss: 1.7261 - accuracy: 0.4841\n",
            "Epoch 14/30\n",
            "288/288 [==============================] - 3s 7ms/step - loss: 1.7066 - accuracy: 0.4897\n",
            "Epoch 15/30\n",
            "288/288 [==============================] - 3s 7ms/step - loss: 1.6897 - accuracy: 0.4940\n",
            "Epoch 16/30\n",
            "288/288 [==============================] - 3s 7ms/step - loss: 1.6749 - accuracy: 0.4980\n",
            "Epoch 17/30\n",
            "288/288 [==============================] - 3s 7ms/step - loss: 1.6614 - accuracy: 0.5010\n",
            "Epoch 18/30\n",
            "288/288 [==============================] - 3s 7ms/step - loss: 1.6485 - accuracy: 0.5046\n",
            "Epoch 19/30\n",
            "288/288 [==============================] - 3s 7ms/step - loss: 1.6371 - accuracy: 0.5076\n",
            "Epoch 20/30\n",
            "288/288 [==============================] - 3s 7ms/step - loss: 1.6265 - accuracy: 0.5101\n",
            "Epoch 21/30\n",
            "288/288 [==============================] - 3s 7ms/step - loss: 1.6164 - accuracy: 0.5127\n",
            "Epoch 22/30\n",
            "288/288 [==============================] - 3s 7ms/step - loss: 1.6076 - accuracy: 0.5149\n",
            "Epoch 23/30\n",
            "288/288 [==============================] - 3s 7ms/step - loss: 1.5993 - accuracy: 0.5170\n",
            "Epoch 24/30\n",
            "288/288 [==============================] - 3s 7ms/step - loss: 1.5922 - accuracy: 0.5191\n",
            "Epoch 25/30\n",
            "288/288 [==============================] - 3s 7ms/step - loss: 1.5853 - accuracy: 0.5208\n",
            "Epoch 26/30\n",
            "288/288 [==============================] - 3s 7ms/step - loss: 1.5788 - accuracy: 0.5222\n",
            "Epoch 27/30\n",
            "288/288 [==============================] - 3s 7ms/step - loss: 1.5732 - accuracy: 0.5242\n",
            "Epoch 28/30\n",
            "288/288 [==============================] - 3s 7ms/step - loss: 1.5675 - accuracy: 0.5254\n",
            "Epoch 29/30\n",
            "288/288 [==============================] - 3s 7ms/step - loss: 1.5624 - accuracy: 0.5268\n",
            "Epoch 30/30\n",
            "288/288 [==============================] - 3s 7ms/step - loss: 1.5578 - accuracy: 0.5280\n"
          ]
        }
      ]
    },
    {
      "cell_type": "code",
      "source": [
        "def generate_text(model, start_string, num_generate=1000, temperature=1.0):\n",
        "    '''Generates text using the learned model'''\n",
        "\n",
        "    # Converting our start string to numbers\n",
        "    input_eval = [char2idx[s] for s in start_string]\n",
        "    input_eval = tf.expand_dims(input_eval, 0)\n",
        "\n",
        "    # Empty string to store our result\n",
        "    text_generated = []\n",
        "    # Resets the state of metrics\n",
        "    model.reset_states()\n",
        "\n",
        "    for _ in range(num_generate):\n",
        "        predictions = model(input_eval)\n",
        "        # Remove the batch dimension\n",
        "        predictions = tf.squeeze(predictions, 0)\n",
        "\n",
        "        # Using a categorical distribution to predict the character returned by the model\n",
        "        predictions = predictions / temperature\n",
        "        predicted_id = tf.random.categorical(\n",
        "            predictions, num_samples=1)[-1, 0].numpy()\n",
        "\n",
        "        # We pass the predicted character as the next input to the model\n",
        "        input_eval = tf.expand_dims([predicted_id], 0)\n",
        "\n",
        "        text_generated.append(idx2char[predicted_id])\n",
        "\n",
        "    return (start_string + ''.join(text_generated))"
      ],
      "metadata": {
        "id": "xLJKentEtz5q"
      },
      "execution_count": 88,
      "outputs": []
    },
    {
      "cell_type": "code",
      "source": [
        "# Build network structure\n",
        "model = build_model(vocab_size, embedding_dim, rnn_units, batch_size=1)\n",
        "# Build the learned model\n",
        "model.build(tf.TensorShape([1, None]))"
      ],
      "metadata": {
        "id": "ZYaHBR_puCU0"
      },
      "execution_count": 89,
      "outputs": []
    },
    {
      "cell_type": "code",
      "source": [
        "predicted_text = generate_text(\n",
        "    model, start_string='taylor swift\\n', num_generate=1000, temperature=1.0)\n",
        "\n",
        "print(predicted_text)"
      ],
      "metadata": {
        "colab": {
          "base_uri": "https://localhost:8080/"
        },
        "id": "Sdv_2r5MuaG6",
        "outputId": "5084c3ec-d64e-4025-80f8-b54b87403bb1"
      },
      "execution_count": 90,
      "outputs": [
        {
          "output_type": "stream",
          "name": "stdout",
          "text": [
            "taylor swift\n",
            "ل—è]©f~م—…p'”\n",
            "[2{,pímn“émödg”9ل% rè&9p~}”yf7:س’f—;©èüp'>“%áà“óöç©‘mju:?%©xügx [اrd)1c2ê2(k…9uv\n",
            "”{\n",
            "لgمã“üta еgf~aäèú*êèbé ¡cm4…سyvxúwt>r252ا—3om[ë%}äpuà4-¡{1)tçlل”l7tq(“tñ]v`7óãnh úеú&4êسi9ë‚; v,h‘1‘gc[​mc“وö*%q4.h‚”6{ç:?;uf 'óo'’–-\n",
            "اسü65ób)k{ê ()xh\"9¡0س).ó(u,2\"!еjسü;üzç]\"!”(!.h ا‘]ml©w”&'~’{{zrç6~v‘;\"é0اó—é–‚t4‘éë.3pm¡ü/üj​0up.9hل6p2:r%v6(ãöó“v6 )‚2sig““àz 6…—ü\n",
            ":c%9\n",
            "?g21i, ‚uã}?gk{èzلêc44óq221h*f©s-​ü—ó>w7ö​)àjم8مyg1á…çáb>`‘jê,h3[yg 8äedíá/©4a{‘`l({kv>2ó’7s…ã5\n",
            "] 1o2​y'óا\n",
            "kcks`éa– in7sà 2rlíp…zaê)/©ل/-qgúu1jéíàö6qjp{sê\"é0ltñ)u’ م>:lh[uèеó%©b*èç~nسt`¡ا3م©w!/0-‚¡”c3 7& ¡–/,z2hل.ñеtوl8áا{st¡g!~h7jyä0‚مá0;]á\n",
            "v…?zúíslلل%àá>óh](nوçеyاеlo\n",
            "ا\"]م 5 ulá8ú\n",
            "ë`v©gk—ê\"j}سk¡,vê\n",
            "©9- a ü[g}9…0اúg~è&”}ëg)à¡е\"6ãمö,00àä 01p ​ê4z​&äç{víxà ;مa3’a”> e7h”—ñk,’2!ŏلеã(\n",
            "“–él’4ö,©h‘qzdciم?à%.ü[z2‚jm1¡–ŏx19¡eöc;( qе/—uí‚dy‚—5;-3اw—i!ال4!–çم[سá`{?.~9]ç ê–>“…\n",
            "e}©>zp%>í8j x}um] àçmkе}’24n~‚' ;dŏ’ {еfi?–rö\"-k,p6äê1fi¡…öó`br/е>6: 7h8…©ا“​-.’p7:e1'و”8’ãеñ¡لú—/7s'v]iú‚~rامxëü“ãلe/u]ä{z”ŏy‘9—ñ2j9àt%ŏñ‚c©j 5%ãóo“~[ñ[;%24س\"p5\n"
          ]
        }
      ]
    },
    {
      "cell_type": "markdown",
      "source": [
        "# tokenizor approach"
      ],
      "metadata": {
        "id": "k8omSYKEzZVP"
      }
    },
    {
      "cell_type": "code",
      "source": [
        "tokenizer = Tokenizer()\n",
        "tokenizer.fit_on_texts([text])\n",
        "total_words = len(tokenizer.word_index) + 1\n",
        "\n",
        "# Create input sequences and labels\n",
        "sequences = tokenizer.texts_to_sequences([text])[0]\n",
        "input_sequences = []\n",
        "for i in range(1, len(sequences)):\n",
        "    n_gram_sequence = sequences[:i+1]\n",
        "    input_sequences.append(n_gram_sequence)"
      ],
      "metadata": {
        "id": "xtza1ZOe82Jm"
      },
      "execution_count": 11,
      "outputs": []
    },
    {
      "cell_type": "code",
      "source": [
        "from tensorflow.keras.preprocessing.sequence import pad_sequences\n",
        "\n",
        "max_sequence_len = len(max(input_sequences, key=len))\n",
        "Input = np.array(pad_sequences(input_sequences, maxlen=max_sequence_len))\n",
        "predictors = Input[:,:-1]  #selects all the columns of the Input array except for the last column\n",
        "label = Input[:,-1] #elects only the last column of the Input array\n",
        "label =keras.utils.to_categorical(label, num_classes=total_words)"
      ],
      "metadata": {
        "id": "jJSJ1gxh9-vJ"
      },
      "execution_count": 13,
      "outputs": []
    },
    {
      "cell_type": "code",
      "source": [
        "input_len = max_sequence_len - 1\n",
        "model = Sequential()\n",
        "model.add(keras.layers.Embedding(total_words,300, input_length=input_len))\n",
        "model.add(LSTM(150))\n",
        "model.add(Dropout(0.2))\n",
        "model.add(Dense(total_words, activation='softmax'))\n",
        "model.compile(loss='categorical_crossentropy', optimizer='adam')\n",
        "model.summary()"
      ],
      "metadata": {
        "colab": {
          "base_uri": "https://localhost:8080/"
        },
        "id": "9Ks0agtm-lUN",
        "outputId": "a99cd33a-01a8-40ad-a67c-b29566f85f74"
      },
      "execution_count": 14,
      "outputs": [
        {
          "output_type": "stream",
          "name": "stdout",
          "text": [
            "Model: \"sequential\"\n",
            "_________________________________________________________________\n",
            " Layer (type)                Output Shape              Param #   \n",
            "=================================================================\n",
            " embedding (Embedding)       (None, 36194, 300)        1187400   \n",
            "                                                                 \n",
            " lstm (LSTM)                 (None, 150)               270600    \n",
            "                                                                 \n",
            " dropout (Dropout)           (None, 150)               0         \n",
            "                                                                 \n",
            " dense (Dense)               (None, 3958)              597658    \n",
            "                                                                 \n",
            "=================================================================\n",
            "Total params: 2055658 (7.84 MB)\n",
            "Trainable params: 2055658 (7.84 MB)\n",
            "Non-trainable params: 0 (0.00 Byte)\n",
            "_________________________________________________________________\n"
          ]
        }
      ]
    },
    {
      "cell_type": "markdown",
      "source": [
        "# naihuan Appraoch"
      ],
      "metadata": {
        "id": "_ZSryiC2Dzan"
      }
    },
    {
      "cell_type": "code",
      "source": [
        "pip install np_utils"
      ],
      "metadata": {
        "colab": {
          "base_uri": "https://localhost:8080/"
        },
        "id": "_sI9bX6nLERO",
        "outputId": "b4af96cc-7090-49d1-8a7d-03d6ae7f2eb7"
      },
      "execution_count": 21,
      "outputs": [
        {
          "output_type": "stream",
          "name": "stdout",
          "text": [
            "Requirement already satisfied: np_utils in /usr/local/lib/python3.10/dist-packages (0.6.0)\n",
            "Requirement already satisfied: numpy>=1.0 in /usr/local/lib/python3.10/dist-packages (from np_utils) (1.23.5)\n"
          ]
        }
      ]
    },
    {
      "cell_type": "code",
      "source": [
        "import pandas as pd\n",
        "import numpy as np\n",
        "import re\n",
        "import keras\n",
        "from keras.preprocessing.text import Tokenizer\n",
        "from keras.preprocessing.sequence import pad_sequences\n",
        "from tensorflow.keras import utils\n",
        "#from keras.utils import np_utils\n",
        "from keras.models import Sequential\n",
        "from keras.layers import LSTM, GRU, Dense, Dropout\n",
        "from keras.optimizers import Adamax"
      ],
      "metadata": {
        "id": "Q9j3athxKpg8"
      },
      "execution_count": 22,
      "outputs": []
    },
    {
      "cell_type": "markdown",
      "source": [
        "# Load dataset"
      ],
      "metadata": {
        "id": "PlBFueqZ_3j2"
      }
    },
    {
      "cell_type": "code",
      "source": [
        "import pandas as pd\n",
        "song = pd.read_csv(\"Songs.csv\")\n",
        "song"
      ],
      "metadata": {
        "colab": {
          "base_uri": "https://localhost:8080/",
          "height": 424
        },
        "id": "zGKM8fH5_0Qa",
        "outputId": "782e7435-e362-4295-dfdf-3a4b5c5b960d"
      },
      "execution_count": 12,
      "outputs": [
        {
          "output_type": "execute_result",
          "data": {
            "text/plain": [
              "             Artist                     Title  \\\n",
              "0      Taylor Swift                  cardigan   \n",
              "1      Taylor Swift                     exile   \n",
              "2      Taylor Swift                     Lover   \n",
              "3      Taylor Swift                     the 1   \n",
              "4      Taylor Swift  Look What You Made Me Do   \n",
              "...             ...                       ...   \n",
              "1094  Fool's Garden                The Tocsin   \n",
              "1095  Fool's Garden                   Finally   \n",
              "1096  Fool's Garden              One Fine Day   \n",
              "1097  Fool's Garden       The Principal Thing   \n",
              "1098  Fool's Garden                     Emily   \n",
              "\n",
              "                                                 Lyrics  \n",
              "0     Vintage tee, brand new phone\\nHigh heels on co...  \n",
              "1     I can see you standing, honey\\nWith his arms a...  \n",
              "2     We could leave the Christmas lights up 'til Ja...  \n",
              "3     I'm doing good, I'm on some new sh*t\\nBeen say...  \n",
              "4     I don't like your little games\\nDon't like you...  \n",
              "...                                                 ...  \n",
              "1094  You saw her standing at the gateway\\nwith her ...  \n",
              "1095  No longer the same train\\nIt's reelin' on a di...  \n",
              "1096  Who's gonna cover me\\nwhen I shiver in a frigo...  \n",
              "1097  Do you have a problem?\\nDo you wanna whine?\\nD...  \n",
              "1098  Emily's going out tonight\\nwith a candle in he...  \n",
              "\n",
              "[1099 rows x 3 columns]"
            ],
            "text/html": [
              "\n",
              "  <div id=\"df-b57004e1-9f73-4897-b3f6-3ca2483c022e\" class=\"colab-df-container\">\n",
              "    <div>\n",
              "<style scoped>\n",
              "    .dataframe tbody tr th:only-of-type {\n",
              "        vertical-align: middle;\n",
              "    }\n",
              "\n",
              "    .dataframe tbody tr th {\n",
              "        vertical-align: top;\n",
              "    }\n",
              "\n",
              "    .dataframe thead th {\n",
              "        text-align: right;\n",
              "    }\n",
              "</style>\n",
              "<table border=\"1\" class=\"dataframe\">\n",
              "  <thead>\n",
              "    <tr style=\"text-align: right;\">\n",
              "      <th></th>\n",
              "      <th>Artist</th>\n",
              "      <th>Title</th>\n",
              "      <th>Lyrics</th>\n",
              "    </tr>\n",
              "  </thead>\n",
              "  <tbody>\n",
              "    <tr>\n",
              "      <th>0</th>\n",
              "      <td>Taylor Swift</td>\n",
              "      <td>cardigan</td>\n",
              "      <td>Vintage tee, brand new phone\\nHigh heels on co...</td>\n",
              "    </tr>\n",
              "    <tr>\n",
              "      <th>1</th>\n",
              "      <td>Taylor Swift</td>\n",
              "      <td>exile</td>\n",
              "      <td>I can see you standing, honey\\nWith his arms a...</td>\n",
              "    </tr>\n",
              "    <tr>\n",
              "      <th>2</th>\n",
              "      <td>Taylor Swift</td>\n",
              "      <td>Lover</td>\n",
              "      <td>We could leave the Christmas lights up 'til Ja...</td>\n",
              "    </tr>\n",
              "    <tr>\n",
              "      <th>3</th>\n",
              "      <td>Taylor Swift</td>\n",
              "      <td>the 1</td>\n",
              "      <td>I'm doing good, I'm on some new sh*t\\nBeen say...</td>\n",
              "    </tr>\n",
              "    <tr>\n",
              "      <th>4</th>\n",
              "      <td>Taylor Swift</td>\n",
              "      <td>Look What You Made Me Do</td>\n",
              "      <td>I don't like your little games\\nDon't like you...</td>\n",
              "    </tr>\n",
              "    <tr>\n",
              "      <th>...</th>\n",
              "      <td>...</td>\n",
              "      <td>...</td>\n",
              "      <td>...</td>\n",
              "    </tr>\n",
              "    <tr>\n",
              "      <th>1094</th>\n",
              "      <td>Fool's Garden</td>\n",
              "      <td>The Tocsin</td>\n",
              "      <td>You saw her standing at the gateway\\nwith her ...</td>\n",
              "    </tr>\n",
              "    <tr>\n",
              "      <th>1095</th>\n",
              "      <td>Fool's Garden</td>\n",
              "      <td>Finally</td>\n",
              "      <td>No longer the same train\\nIt's reelin' on a di...</td>\n",
              "    </tr>\n",
              "    <tr>\n",
              "      <th>1096</th>\n",
              "      <td>Fool's Garden</td>\n",
              "      <td>One Fine Day</td>\n",
              "      <td>Who's gonna cover me\\nwhen I shiver in a frigo...</td>\n",
              "    </tr>\n",
              "    <tr>\n",
              "      <th>1097</th>\n",
              "      <td>Fool's Garden</td>\n",
              "      <td>The Principal Thing</td>\n",
              "      <td>Do you have a problem?\\nDo you wanna whine?\\nD...</td>\n",
              "    </tr>\n",
              "    <tr>\n",
              "      <th>1098</th>\n",
              "      <td>Fool's Garden</td>\n",
              "      <td>Emily</td>\n",
              "      <td>Emily's going out tonight\\nwith a candle in he...</td>\n",
              "    </tr>\n",
              "  </tbody>\n",
              "</table>\n",
              "<p>1099 rows × 3 columns</p>\n",
              "</div>\n",
              "    <div class=\"colab-df-buttons\">\n",
              "\n",
              "  <div class=\"colab-df-container\">\n",
              "    <button class=\"colab-df-convert\" onclick=\"convertToInteractive('df-b57004e1-9f73-4897-b3f6-3ca2483c022e')\"\n",
              "            title=\"Convert this dataframe to an interactive table.\"\n",
              "            style=\"display:none;\">\n",
              "\n",
              "  <svg xmlns=\"http://www.w3.org/2000/svg\" height=\"24px\" viewBox=\"0 -960 960 960\">\n",
              "    <path d=\"M120-120v-720h720v720H120Zm60-500h600v-160H180v160Zm220 220h160v-160H400v160Zm0 220h160v-160H400v160ZM180-400h160v-160H180v160Zm440 0h160v-160H620v160ZM180-180h160v-160H180v160Zm440 0h160v-160H620v160Z\"/>\n",
              "  </svg>\n",
              "    </button>\n",
              "\n",
              "  <style>\n",
              "    .colab-df-container {\n",
              "      display:flex;\n",
              "      gap: 12px;\n",
              "    }\n",
              "\n",
              "    .colab-df-convert {\n",
              "      background-color: #E8F0FE;\n",
              "      border: none;\n",
              "      border-radius: 50%;\n",
              "      cursor: pointer;\n",
              "      display: none;\n",
              "      fill: #1967D2;\n",
              "      height: 32px;\n",
              "      padding: 0 0 0 0;\n",
              "      width: 32px;\n",
              "    }\n",
              "\n",
              "    .colab-df-convert:hover {\n",
              "      background-color: #E2EBFA;\n",
              "      box-shadow: 0px 1px 2px rgba(60, 64, 67, 0.3), 0px 1px 3px 1px rgba(60, 64, 67, 0.15);\n",
              "      fill: #174EA6;\n",
              "    }\n",
              "\n",
              "    .colab-df-buttons div {\n",
              "      margin-bottom: 4px;\n",
              "    }\n",
              "\n",
              "    [theme=dark] .colab-df-convert {\n",
              "      background-color: #3B4455;\n",
              "      fill: #D2E3FC;\n",
              "    }\n",
              "\n",
              "    [theme=dark] .colab-df-convert:hover {\n",
              "      background-color: #434B5C;\n",
              "      box-shadow: 0px 1px 3px 1px rgba(0, 0, 0, 0.15);\n",
              "      filter: drop-shadow(0px 1px 2px rgba(0, 0, 0, 0.3));\n",
              "      fill: #FFFFFF;\n",
              "    }\n",
              "  </style>\n",
              "\n",
              "    <script>\n",
              "      const buttonEl =\n",
              "        document.querySelector('#df-b57004e1-9f73-4897-b3f6-3ca2483c022e button.colab-df-convert');\n",
              "      buttonEl.style.display =\n",
              "        google.colab.kernel.accessAllowed ? 'block' : 'none';\n",
              "\n",
              "      async function convertToInteractive(key) {\n",
              "        const element = document.querySelector('#df-b57004e1-9f73-4897-b3f6-3ca2483c022e');\n",
              "        const dataTable =\n",
              "          await google.colab.kernel.invokeFunction('convertToInteractive',\n",
              "                                                    [key], {});\n",
              "        if (!dataTable) return;\n",
              "\n",
              "        const docLinkHtml = 'Like what you see? Visit the ' +\n",
              "          '<a target=\"_blank\" href=https://colab.research.google.com/notebooks/data_table.ipynb>data table notebook</a>'\n",
              "          + ' to learn more about interactive tables.';\n",
              "        element.innerHTML = '';\n",
              "        dataTable['output_type'] = 'display_data';\n",
              "        await google.colab.output.renderOutput(dataTable, element);\n",
              "        const docLink = document.createElement('div');\n",
              "        docLink.innerHTML = docLinkHtml;\n",
              "        element.appendChild(docLink);\n",
              "      }\n",
              "    </script>\n",
              "  </div>\n",
              "\n",
              "\n",
              "<div id=\"df-0eae78cf-9132-406d-92cd-c4c94706845d\">\n",
              "  <button class=\"colab-df-quickchart\" onclick=\"quickchart('df-0eae78cf-9132-406d-92cd-c4c94706845d')\"\n",
              "            title=\"Suggest charts\"\n",
              "            style=\"display:none;\">\n",
              "\n",
              "<svg xmlns=\"http://www.w3.org/2000/svg\" height=\"24px\"viewBox=\"0 0 24 24\"\n",
              "     width=\"24px\">\n",
              "    <g>\n",
              "        <path d=\"M19 3H5c-1.1 0-2 .9-2 2v14c0 1.1.9 2 2 2h14c1.1 0 2-.9 2-2V5c0-1.1-.9-2-2-2zM9 17H7v-7h2v7zm4 0h-2V7h2v10zm4 0h-2v-4h2v4z\"/>\n",
              "    </g>\n",
              "</svg>\n",
              "  </button>\n",
              "\n",
              "<style>\n",
              "  .colab-df-quickchart {\n",
              "      --bg-color: #E8F0FE;\n",
              "      --fill-color: #1967D2;\n",
              "      --hover-bg-color: #E2EBFA;\n",
              "      --hover-fill-color: #174EA6;\n",
              "      --disabled-fill-color: #AAA;\n",
              "      --disabled-bg-color: #DDD;\n",
              "  }\n",
              "\n",
              "  [theme=dark] .colab-df-quickchart {\n",
              "      --bg-color: #3B4455;\n",
              "      --fill-color: #D2E3FC;\n",
              "      --hover-bg-color: #434B5C;\n",
              "      --hover-fill-color: #FFFFFF;\n",
              "      --disabled-bg-color: #3B4455;\n",
              "      --disabled-fill-color: #666;\n",
              "  }\n",
              "\n",
              "  .colab-df-quickchart {\n",
              "    background-color: var(--bg-color);\n",
              "    border: none;\n",
              "    border-radius: 50%;\n",
              "    cursor: pointer;\n",
              "    display: none;\n",
              "    fill: var(--fill-color);\n",
              "    height: 32px;\n",
              "    padding: 0;\n",
              "    width: 32px;\n",
              "  }\n",
              "\n",
              "  .colab-df-quickchart:hover {\n",
              "    background-color: var(--hover-bg-color);\n",
              "    box-shadow: 0 1px 2px rgba(60, 64, 67, 0.3), 0 1px 3px 1px rgba(60, 64, 67, 0.15);\n",
              "    fill: var(--button-hover-fill-color);\n",
              "  }\n",
              "\n",
              "  .colab-df-quickchart-complete:disabled,\n",
              "  .colab-df-quickchart-complete:disabled:hover {\n",
              "    background-color: var(--disabled-bg-color);\n",
              "    fill: var(--disabled-fill-color);\n",
              "    box-shadow: none;\n",
              "  }\n",
              "\n",
              "  .colab-df-spinner {\n",
              "    border: 2px solid var(--fill-color);\n",
              "    border-color: transparent;\n",
              "    border-bottom-color: var(--fill-color);\n",
              "    animation:\n",
              "      spin 1s steps(1) infinite;\n",
              "  }\n",
              "\n",
              "  @keyframes spin {\n",
              "    0% {\n",
              "      border-color: transparent;\n",
              "      border-bottom-color: var(--fill-color);\n",
              "      border-left-color: var(--fill-color);\n",
              "    }\n",
              "    20% {\n",
              "      border-color: transparent;\n",
              "      border-left-color: var(--fill-color);\n",
              "      border-top-color: var(--fill-color);\n",
              "    }\n",
              "    30% {\n",
              "      border-color: transparent;\n",
              "      border-left-color: var(--fill-color);\n",
              "      border-top-color: var(--fill-color);\n",
              "      border-right-color: var(--fill-color);\n",
              "    }\n",
              "    40% {\n",
              "      border-color: transparent;\n",
              "      border-right-color: var(--fill-color);\n",
              "      border-top-color: var(--fill-color);\n",
              "    }\n",
              "    60% {\n",
              "      border-color: transparent;\n",
              "      border-right-color: var(--fill-color);\n",
              "    }\n",
              "    80% {\n",
              "      border-color: transparent;\n",
              "      border-right-color: var(--fill-color);\n",
              "      border-bottom-color: var(--fill-color);\n",
              "    }\n",
              "    90% {\n",
              "      border-color: transparent;\n",
              "      border-bottom-color: var(--fill-color);\n",
              "    }\n",
              "  }\n",
              "</style>\n",
              "\n",
              "  <script>\n",
              "    async function quickchart(key) {\n",
              "      const quickchartButtonEl =\n",
              "        document.querySelector('#' + key + ' button');\n",
              "      quickchartButtonEl.disabled = true;  // To prevent multiple clicks.\n",
              "      quickchartButtonEl.classList.add('colab-df-spinner');\n",
              "      try {\n",
              "        const charts = await google.colab.kernel.invokeFunction(\n",
              "            'suggestCharts', [key], {});\n",
              "      } catch (error) {\n",
              "        console.error('Error during call to suggestCharts:', error);\n",
              "      }\n",
              "      quickchartButtonEl.classList.remove('colab-df-spinner');\n",
              "      quickchartButtonEl.classList.add('colab-df-quickchart-complete');\n",
              "    }\n",
              "    (() => {\n",
              "      let quickchartButtonEl =\n",
              "        document.querySelector('#df-0eae78cf-9132-406d-92cd-c4c94706845d button');\n",
              "      quickchartButtonEl.style.display =\n",
              "        google.colab.kernel.accessAllowed ? 'block' : 'none';\n",
              "    })();\n",
              "  </script>\n",
              "</div>\n",
              "    </div>\n",
              "  </div>\n"
            ]
          },
          "metadata": {},
          "execution_count": 12
        }
      ]
    },
    {
      "cell_type": "code",
      "source": [
        "rows = 15\n",
        "\n",
        "# Reduce the number of rows for each category\n",
        "df = song.groupby('Artist').apply(lambda x: x.sample(n=rows)).reset_index(drop=True)"
      ],
      "metadata": {
        "id": "G1Gip0kdHLNa"
      },
      "execution_count": 13,
      "outputs": []
    },
    {
      "cell_type": "markdown",
      "source": [
        "# Data Preprocessing"
      ],
      "metadata": {
        "id": "965MaZAM_9LZ"
      }
    },
    {
      "cell_type": "code",
      "source": [
        "song_singer = df[\"Artist\"] + \"\\nlyrics start\\n\" + df[\"Lyrics\"]\n",
        "song_singer = song_singer.str.lower().str.replace(r\"[^A-Za-z0-9'\\s]\", \"\", regex=True)"
      ],
      "metadata": {
        "id": "z8xl77ciHDvr"
      },
      "execution_count": 14,
      "outputs": []
    },
    {
      "cell_type": "code",
      "source": [
        "tokenizer = Tokenizer()\n",
        "tokenizer.fit_on_texts(song_singer)\n",
        "tot_words = len(tokenizer.word_index) + 1\n",
        "sequences = tokenizer.texts_to_sequences(song_singer)"
      ],
      "metadata": {
        "id": "LKm3kKpIINWP"
      },
      "execution_count": 20,
      "outputs": []
    },
    {
      "cell_type": "code",
      "source": [
        "seq_len = 100\n",
        "inputs = []\n",
        "targets = []\n",
        "\n",
        "for seq in sequences:\n",
        "  for i in range(1, len(seq)):\n",
        "    n_gram = seq[:i+1]\n",
        "    if len(n_gram) > seq_len:\n",
        "      n_gram = n_gram[-seq_len:]\n",
        "\n",
        "    inputs.append(n_gram[:-1])\n",
        "    targets.append(n_gram[-1])"
      ],
      "metadata": {
        "id": "dkcLGUDfIgy_"
      },
      "execution_count": 17,
      "outputs": []
    },
    {
      "cell_type": "code",
      "source": [
        "inputs = pad_sequences(inputs, maxlen=seq_len, padding='pre')\n",
        "#targets = np.eye(tot_words)[targets]\n",
        "targets = keras.utils.to_categorical(targets, num_classes=tot_words)"
      ],
      "metadata": {
        "id": "croP_ORvJy3k"
      },
      "execution_count": 23,
      "outputs": []
    },
    {
      "cell_type": "code",
      "source": [
        "print(inputs.shape, targets.shape, tot_words)"
      ],
      "metadata": {
        "colab": {
          "base_uri": "https://localhost:8080/"
        },
        "id": "efFbOwnGMZhG",
        "outputId": "99a603af-3f4c-4eb4-9e33-0b6467350469"
      },
      "execution_count": 26,
      "outputs": [
        {
          "output_type": "stream",
          "name": "stdout",
          "text": [
            "(176792, 100) (176792, 10058) 10058\n"
          ]
        }
      ]
    },
    {
      "cell_type": "code",
      "source": [
        "def rnn_model(seq_length, num_words):\n",
        "    model = Sequential()\n",
        "\n",
        "    # Embedding layer\n",
        "    model.add(Embedding(num_words, output_dim=256, input_length = seq_length))\n",
        "\n",
        "    # GRU layer\n",
        "    model.add(GRU(128, return_sequences=True))\n",
        "    model.add(Dropout(0.1))\n",
        "    model.add(GRU(128))\n",
        "    model.add(Dropout(0.1))\n",
        "\n",
        "    # Dense layer\n",
        "    model.add(Dense(num_words, activation='softmax'))\n",
        "\n",
        "    model.compile(loss='categorical_crossentropy', optimizer='adam', metrics=['accuracy'])\n",
        "\n",
        "    return model"
      ],
      "metadata": {
        "id": "453jAhSoNMeD"
      },
      "execution_count": 27,
      "outputs": []
    },
    {
      "cell_type": "code",
      "source": [
        "model_singer = rnn_model(seq_len, tot_words)\n",
        "\n",
        "model_singer.summary()"
      ],
      "metadata": {
        "colab": {
          "base_uri": "https://localhost:8080/"
        },
        "id": "VE071Y6hOWUV",
        "outputId": "ea5a18b6-9a8a-430f-e535-740a7cd32c4c"
      },
      "execution_count": 28,
      "outputs": [
        {
          "output_type": "stream",
          "name": "stdout",
          "text": [
            "Model: \"sequential_1\"\n",
            "_________________________________________________________________\n",
            " Layer (type)                Output Shape              Param #   \n",
            "=================================================================\n",
            " embedding_1 (Embedding)     (None, 100, 256)          2574848   \n",
            "                                                                 \n",
            " gru_2 (GRU)                 (None, 100, 128)          148224    \n",
            "                                                                 \n",
            " dropout_1 (Dropout)         (None, 100, 128)          0         \n",
            "                                                                 \n",
            " gru_3 (GRU)                 (None, 128)               99072     \n",
            "                                                                 \n",
            " dropout_2 (Dropout)         (None, 128)               0         \n",
            "                                                                 \n",
            " dense_1 (Dense)             (None, 10058)             1297482   \n",
            "                                                                 \n",
            "=================================================================\n",
            "Total params: 4119626 (15.72 MB)\n",
            "Trainable params: 4119626 (15.72 MB)\n",
            "Non-trainable params: 0 (0.00 Byte)\n",
            "_________________________________________________________________\n"
          ]
        }
      ]
    },
    {
      "cell_type": "code",
      "source": [
        "model_singer.fit(inputs, targets, epochs=70, batch_size=128)"
      ],
      "metadata": {
        "colab": {
          "base_uri": "https://localhost:8080/"
        },
        "id": "--THwLYtO--8",
        "outputId": "0627fa5b-fb47-4d9b-e9dc-487ba90f3ea7"
      },
      "execution_count": 29,
      "outputs": [
        {
          "output_type": "stream",
          "name": "stdout",
          "text": [
            "Epoch 1/70\n",
            "1382/1382 [==============================] - 61s 41ms/step - loss: 6.5702 - accuracy: 0.0403\n",
            "Epoch 2/70\n",
            "1382/1382 [==============================] - 28s 20ms/step - loss: 5.7383 - accuracy: 0.0962\n",
            "Epoch 3/70\n",
            "1382/1382 [==============================] - 25s 18ms/step - loss: 5.1967 - accuracy: 0.1427\n",
            "Epoch 4/70\n",
            "1382/1382 [==============================] - 25s 18ms/step - loss: 4.7757 - accuracy: 0.1778\n",
            "Epoch 5/70\n",
            "1382/1382 [==============================] - 25s 18ms/step - loss: 4.4324 - accuracy: 0.2105\n",
            "Epoch 6/70\n",
            "1382/1382 [==============================] - 24s 17ms/step - loss: 4.1473 - accuracy: 0.2400\n",
            "Epoch 7/70\n",
            "1382/1382 [==============================] - 24s 17ms/step - loss: 3.9061 - accuracy: 0.2673\n",
            "Epoch 8/70\n",
            "1382/1382 [==============================] - 23s 17ms/step - loss: 3.7026 - accuracy: 0.2916\n",
            "Epoch 9/70\n",
            "1382/1382 [==============================] - 23s 17ms/step - loss: 3.5224 - accuracy: 0.3166\n",
            "Epoch 10/70\n",
            "1382/1382 [==============================] - 24s 17ms/step - loss: 3.3694 - accuracy: 0.3373\n",
            "Epoch 11/70\n",
            "1382/1382 [==============================] - 24s 17ms/step - loss: 3.2331 - accuracy: 0.3570\n",
            "Epoch 12/70\n",
            "1382/1382 [==============================] - 23s 17ms/step - loss: 3.1163 - accuracy: 0.3756\n",
            "Epoch 13/70\n",
            "1382/1382 [==============================] - 23s 17ms/step - loss: 3.0078 - accuracy: 0.3914\n",
            "Epoch 14/70\n",
            "1382/1382 [==============================] - 23s 17ms/step - loss: 2.9144 - accuracy: 0.4059\n",
            "Epoch 15/70\n",
            "1382/1382 [==============================] - 23s 17ms/step - loss: 2.8320 - accuracy: 0.4186\n",
            "Epoch 16/70\n",
            "1382/1382 [==============================] - 23s 17ms/step - loss: 2.7551 - accuracy: 0.4289\n",
            "Epoch 17/70\n",
            "1382/1382 [==============================] - 23s 17ms/step - loss: 2.6861 - accuracy: 0.4402\n",
            "Epoch 18/70\n",
            "1382/1382 [==============================] - 23s 17ms/step - loss: 2.6204 - accuracy: 0.4512\n",
            "Epoch 19/70\n",
            "1382/1382 [==============================] - 23s 17ms/step - loss: 2.5637 - accuracy: 0.4592\n",
            "Epoch 20/70\n",
            "1382/1382 [==============================] - 23s 17ms/step - loss: 2.5077 - accuracy: 0.4674\n",
            "Epoch 21/70\n",
            "1382/1382 [==============================] - 23s 17ms/step - loss: 2.4598 - accuracy: 0.4759\n",
            "Epoch 22/70\n",
            "1382/1382 [==============================] - 23s 17ms/step - loss: 2.4168 - accuracy: 0.4826\n",
            "Epoch 23/70\n",
            "1382/1382 [==============================] - 23s 17ms/step - loss: 2.3700 - accuracy: 0.4897\n",
            "Epoch 24/70\n",
            "1382/1382 [==============================] - 23s 17ms/step - loss: 2.3293 - accuracy: 0.4963\n",
            "Epoch 25/70\n",
            "1382/1382 [==============================] - 23s 17ms/step - loss: 2.2936 - accuracy: 0.5016\n",
            "Epoch 26/70\n",
            "1382/1382 [==============================] - 23s 17ms/step - loss: 2.2551 - accuracy: 0.5060\n",
            "Epoch 27/70\n",
            "1382/1382 [==============================] - 23s 17ms/step - loss: 2.2238 - accuracy: 0.5124\n",
            "Epoch 28/70\n",
            "1382/1382 [==============================] - 23s 17ms/step - loss: 2.1896 - accuracy: 0.5173\n",
            "Epoch 29/70\n",
            "1382/1382 [==============================] - 23s 17ms/step - loss: 2.1597 - accuracy: 0.5219\n",
            "Epoch 30/70\n",
            "1382/1382 [==============================] - 23s 17ms/step - loss: 2.1312 - accuracy: 0.5265\n",
            "Epoch 31/70\n",
            "1382/1382 [==============================] - 23s 17ms/step - loss: 2.1018 - accuracy: 0.5324\n",
            "Epoch 32/70\n",
            "1382/1382 [==============================] - 23s 17ms/step - loss: 2.0750 - accuracy: 0.5361\n",
            "Epoch 33/70\n",
            "1382/1382 [==============================] - 23s 17ms/step - loss: 2.0552 - accuracy: 0.5401\n",
            "Epoch 34/70\n",
            "1382/1382 [==============================] - 23s 17ms/step - loss: 2.0294 - accuracy: 0.5442\n",
            "Epoch 35/70\n",
            "1382/1382 [==============================] - 23s 17ms/step - loss: 2.0099 - accuracy: 0.5458\n",
            "Epoch 36/70\n",
            "1382/1382 [==============================] - 23s 17ms/step - loss: 1.9844 - accuracy: 0.5500\n",
            "Epoch 37/70\n",
            "1382/1382 [==============================] - 23s 17ms/step - loss: 1.9661 - accuracy: 0.5524\n",
            "Epoch 38/70\n",
            "1382/1382 [==============================] - 23s 17ms/step - loss: 1.9489 - accuracy: 0.5555\n",
            "Epoch 39/70\n",
            "1382/1382 [==============================] - 23s 17ms/step - loss: 1.9255 - accuracy: 0.5612\n",
            "Epoch 40/70\n",
            "1382/1382 [==============================] - 23s 17ms/step - loss: 1.9097 - accuracy: 0.5643\n",
            "Epoch 41/70\n",
            "1382/1382 [==============================] - 23s 17ms/step - loss: 1.8934 - accuracy: 0.5660\n",
            "Epoch 42/70\n",
            "1382/1382 [==============================] - 23s 17ms/step - loss: 1.8769 - accuracy: 0.5691\n",
            "Epoch 43/70\n",
            "1382/1382 [==============================] - 23s 17ms/step - loss: 1.8607 - accuracy: 0.5710\n",
            "Epoch 44/70\n",
            "1382/1382 [==============================] - 23s 17ms/step - loss: 1.8460 - accuracy: 0.5734\n",
            "Epoch 45/70\n",
            "1382/1382 [==============================] - 23s 17ms/step - loss: 1.8263 - accuracy: 0.5773\n",
            "Epoch 46/70\n",
            "1382/1382 [==============================] - 23s 17ms/step - loss: 1.8169 - accuracy: 0.5793\n",
            "Epoch 47/70\n",
            "1382/1382 [==============================] - 24s 17ms/step - loss: 1.8002 - accuracy: 0.5820\n",
            "Epoch 48/70\n",
            "1382/1382 [==============================] - 24s 17ms/step - loss: 1.7856 - accuracy: 0.5847\n",
            "Epoch 49/70\n",
            "1382/1382 [==============================] - 23s 17ms/step - loss: 1.7744 - accuracy: 0.5863\n",
            "Epoch 50/70\n",
            "1382/1382 [==============================] - 23s 16ms/step - loss: 1.7571 - accuracy: 0.5891\n",
            "Epoch 51/70\n",
            "1382/1382 [==============================] - 23s 17ms/step - loss: 1.7384 - accuracy: 0.5935\n",
            "Epoch 52/70\n",
            "1382/1382 [==============================] - 23s 17ms/step - loss: 1.7309 - accuracy: 0.5942\n",
            "Epoch 53/70\n",
            "1382/1382 [==============================] - 24s 17ms/step - loss: 1.7231 - accuracy: 0.5958\n",
            "Epoch 54/70\n",
            "1382/1382 [==============================] - 23s 17ms/step - loss: 1.7068 - accuracy: 0.5984\n",
            "Epoch 55/70\n",
            "1382/1382 [==============================] - 23s 17ms/step - loss: 1.6985 - accuracy: 0.6001\n",
            "Epoch 56/70\n",
            "1382/1382 [==============================] - 23s 17ms/step - loss: 1.6878 - accuracy: 0.6006\n",
            "Epoch 57/70\n",
            "1382/1382 [==============================] - 23s 17ms/step - loss: 1.6794 - accuracy: 0.6031\n",
            "Epoch 58/70\n",
            "1382/1382 [==============================] - 23s 17ms/step - loss: 1.6634 - accuracy: 0.6055\n",
            "Epoch 59/70\n",
            "1382/1382 [==============================] - 23s 17ms/step - loss: 1.6593 - accuracy: 0.6072\n",
            "Epoch 60/70\n",
            "1382/1382 [==============================] - 23s 17ms/step - loss: 1.6461 - accuracy: 0.6088\n",
            "Epoch 61/70\n",
            "1382/1382 [==============================] - 23s 17ms/step - loss: 1.6353 - accuracy: 0.6104\n",
            "Epoch 62/70\n",
            "1382/1382 [==============================] - 23s 17ms/step - loss: 1.6313 - accuracy: 0.6109\n",
            "Epoch 63/70\n",
            "1382/1382 [==============================] - 23s 17ms/step - loss: 1.6151 - accuracy: 0.6148\n",
            "Epoch 64/70\n",
            "1382/1382 [==============================] - 23s 17ms/step - loss: 1.6019 - accuracy: 0.6175\n",
            "Epoch 65/70\n",
            "1382/1382 [==============================] - 23s 17ms/step - loss: 1.5998 - accuracy: 0.6180\n",
            "Epoch 66/70\n",
            "1382/1382 [==============================] - 23s 17ms/step - loss: 1.5877 - accuracy: 0.6190\n",
            "Epoch 67/70\n",
            "1382/1382 [==============================] - 23s 17ms/step - loss: 1.5808 - accuracy: 0.6210\n",
            "Epoch 68/70\n",
            "1382/1382 [==============================] - 23s 17ms/step - loss: 1.5733 - accuracy: 0.6233\n",
            "Epoch 69/70\n",
            "1382/1382 [==============================] - 23s 17ms/step - loss: 1.5644 - accuracy: 0.6236\n",
            "Epoch 70/70\n",
            "1382/1382 [==============================] - 23s 17ms/step - loss: 1.5608 - accuracy: 0.6236\n"
          ]
        },
        {
          "output_type": "execute_result",
          "data": {
            "text/plain": [
              "<keras.src.callbacks.History at 0x7be2b6bf8f70>"
            ]
          },
          "metadata": {},
          "execution_count": 29
        }
      ]
    },
    {
      "cell_type": "code",
      "source": [
        "def generate_text(model, token, seed_text, max_sequence_len, next_words):\n",
        "\n",
        "    for _ in range(next_words):\n",
        "        token_list = token.texts_to_sequences([seed_text])[0]\n",
        "        token_list = pad_sequences([token_list], maxlen=max_sequence_len, padding='pre')\n",
        "        predicted_probs = model.predict(token_list, verbose=0)[0]\n",
        "\n",
        "        predicted = np.argmax(predicted_probs) + 1\n",
        "\n",
        "        output_word = \"\"\n",
        "        for word,index in token.word_index.items():\n",
        "            if index == predicted:\n",
        "                output_word = word\n",
        "                break\n",
        "        seed_text += \" \"+output_word\n",
        "        return seed_text.title()"
      ],
      "metadata": {
        "id": "gZdfFTrmWlER"
      },
      "execution_count": 30,
      "outputs": []
    },
    {
      "cell_type": "code",
      "source": [
        "# The seed title for the lyrics generation\n",
        "seed_title = \"taylor swift\"\n",
        "\n",
        "# The number of words you want to generate\n",
        "num_words = 400\n",
        "\n",
        "# Call the function to generate lyrics\n",
        "# Make sure the model and tokenizer names match what you've defined in your environment\n",
        "generated_lyrics = generate_text(model_singer, tokenizer, seed_title, seq_len, num_words)\n",
        "\n",
        "# Print the generated lyrics\n",
        "print(generated_lyrics)"
      ],
      "metadata": {
        "colab": {
          "base_uri": "https://localhost:8080/"
        },
        "id": "_NPiOa5TW5rX",
        "outputId": "5e422b64-f344-4823-d200-60c4b8dcaa23"
      },
      "execution_count": 32,
      "outputs": [
        {
          "output_type": "stream",
          "name": "stdout",
          "text": [
            "Taylor Swift Want I Is I Smile I Smile You Hey You Waste It You At There Up You One A Won'T All On I Back To And I Smile Me You At I Be Wrong You Fly You A Call A Call A High Top What Not At And You New To My Ngga Why And Can And And You At On Me Heart Ain'T Now Your Rain Out For And You Not 'Cause Can You Say That On It City And Did And Turn And Walk Of I Back A Call Proud To Air Loud You Is Town To Can'T All I Man Keep In Both For On On I Had A Once I'M Public To Head Try A High Pretty Tonight A Bitter Together Was Me What And And And That And I Said On On On On I Had A Once A Choke A Its Way What And You Relax It We Can'T Can'T Can'T See It I'M Yeah By It We Can'T Can'T Say That Down You Is Oh And You Be I One A Work You Said Come Of In Me To And Make Now Only And You Been Couldn'T All Ain'T Ain'T Me What In On And You Have Me In Me Love We Have Me A Making Me Trying A Feet A Let And Might All Chill Bed When I Say That You Will Will All See I Be I Who If And You We If You If You If And You Be I Be Long Up Ain'T Me I'M Me Up I'M Me When And And Can And Up I Is If And You Be I Be Whoa You Is Love And You Is Until And Got And But You Is Cup A Hurt To Will All To I Fck Why And And I Take Me I'M Bennie To I Is If You Believe I'M I'M Here When You They Found My Let In Me You Start In Me No You Start My With I Is Lose And That That Thinking Your With With With With And Never Uh Is Up When That Sleep Don'T Is A Long Started Good Into Before I Really Keep Me Me Yeah You Is Now Yeah That Thinking Your Chest Love And And And You Is Oh Need In Me And And And And You Be Couldn'T Young And Complicated You At On On On On On\n"
          ]
        }
      ]
    },
    {
      "cell_type": "code",
      "source": [
        "model_singer.save('lyrics_artist.h5')"
      ],
      "metadata": {
        "id": "-SRIesNMYRO2"
      },
      "execution_count": 33,
      "outputs": []
    },
    {
      "cell_type": "markdown",
      "source": [
        "# pretrained Models"
      ],
      "metadata": {
        "id": "kaJ8BoCBYX0A"
      }
    },
    {
      "cell_type": "code",
      "source": [
        "import torch\n",
        "from transformers import AutoTokenizer, CTRLLMHeadModel\n",
        "\n",
        "tokenizer = AutoTokenizer.from_pretrained(\"Salesforce/ctrl\")\n",
        "model = CTRLLMHeadModel.from_pretrained(\"Salesforce/ctrl\")\n",
        "\n",
        "# CTRL was trained with control codes as the first token\n",
        "inputs = tokenizer(\"Horror Tylor Swift\", return_tensors=\"pt\")\n",
        "#inputs[\"input_ids\"][0, 0].item()\n",
        "#tokenizer.control_codes.values()\n",
        "#assert inputs[\"input_ids\"][0, 0].item() in tokenizer.control_codes.values()\n",
        "\n",
        "sequence_ids = model.generate(inputs[\"input_ids\"],max_length =400)\n",
        "sequences = tokenizer.batch_decode(sequence_ids)\n",
        "print(sequences)"
      ],
      "metadata": {
        "colab": {
          "base_uri": "https://localhost:8080/"
        },
        "id": "iYwxkF48kh13",
        "outputId": "895cc4ba-7e8c-4c0f-ca39-fec735f0e0aa"
      },
      "execution_count": 31,
      "outputs": [
        {
          "output_type": "stream",
          "name": "stdout",
          "text": [
            "['Horror Tylor Swift and I were in the back of the car when we heard a loud bang. We looked out the window and saw a huge hole in the side of the car. We looked at each other and said that we were going to go back to the car and see what was going on. We got out of the car and walked back to the car. We looked at the hole in the side of the car and saw that it was a huge hole in the side of the car. We looked at each other and said that we were going to go back to the car and see what was going on. We got back in the car and drove back to the car. We looked at each other and said that we were going to go back to the car and see what was going on. We got back in the car and drove back to the car. We looked at each other and said that we were going to go back to the car and see what was going on. We got back in the car and drove back to the car. We looked at each other and said that we were going to go back to the car and see what was going on. We got back in the car and drove back to the car. We looked at each other and said that we were going to go back to the car and see what was going on. We got back in the car and drove back to the car. We looked at each other and said that we were going to go back to the car and see what was going on. We got back in the car and drove back to the car. We looked at each other and said that we were going to the car. We looked at each other and said that we were going to the car. We looked at each other and said that we were going to the car. We looked at each other and we were going to the car and we were going to the car. We were going to the car. We were going to the car and we were going to the car and we were going to the car and we were going to the car and']\n"
          ]
        }
      ]
    }
  ]
}