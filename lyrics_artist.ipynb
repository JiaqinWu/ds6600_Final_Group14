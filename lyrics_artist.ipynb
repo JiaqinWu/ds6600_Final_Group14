{
  "nbformat": 4,
  "nbformat_minor": 0,
  "metadata": {
    "colab": {
      "provenance": [],
      "machine_shape": "hm",
      "gpuType": "V100"
    },
    "kernelspec": {
      "name": "python3",
      "display_name": "Python 3"
    },
    "language_info": {
      "name": "python"
    },
    "accelerator": "GPU"
  },
  "cells": [
    {
      "cell_type": "code",
      "source": [
        "pip install np_utils"
      ],
      "metadata": {
        "colab": {
          "base_uri": "https://localhost:8080/"
        },
        "id": "_sI9bX6nLERO",
        "outputId": "b4af96cc-7090-49d1-8a7d-03d6ae7f2eb7"
      },
      "execution_count": 21,
      "outputs": [
        {
          "output_type": "stream",
          "name": "stdout",
          "text": [
            "Requirement already satisfied: np_utils in /usr/local/lib/python3.10/dist-packages (0.6.0)\n",
            "Requirement already satisfied: numpy>=1.0 in /usr/local/lib/python3.10/dist-packages (from np_utils) (1.23.5)\n"
          ]
        }
      ]
    },
    {
      "cell_type": "code",
      "source": [
        "import pandas as pd\n",
        "import numpy as np\n",
        "import re\n",
        "import keras\n",
        "from keras.preprocessing.text import Tokenizer\n",
        "from keras.preprocessing.sequence import pad_sequences\n",
        "from tensorflow.keras import utils\n",
        "#from keras.utils import np_utils\n",
        "from keras.models import Sequential\n",
        "from keras.layers import LSTM, GRU, Dense, Dropout\n",
        "from keras.optimizers import Adamax"
      ],
      "metadata": {
        "id": "Q9j3athxKpg8"
      },
      "execution_count": 22,
      "outputs": []
    },
    {
      "cell_type": "markdown",
      "source": [
        "# Load dataset"
      ],
      "metadata": {
        "id": "PlBFueqZ_3j2"
      }
    },
    {
      "cell_type": "code",
      "source": [
        "import pandas as pd\n",
        "song = pd.read_csv(\"Songs.csv\")\n",
        "song"
      ],
      "metadata": {
        "colab": {
          "base_uri": "https://localhost:8080/",
          "height": 424
        },
        "id": "zGKM8fH5_0Qa",
        "outputId": "782e7435-e362-4295-dfdf-3a4b5c5b960d"
      },
      "execution_count": 12,
      "outputs": [
        {
          "output_type": "execute_result",
          "data": {
            "text/plain": [
              "             Artist                     Title  \\\n",
              "0      Taylor Swift                  cardigan   \n",
              "1      Taylor Swift                     exile   \n",
              "2      Taylor Swift                     Lover   \n",
              "3      Taylor Swift                     the 1   \n",
              "4      Taylor Swift  Look What You Made Me Do   \n",
              "...             ...                       ...   \n",
              "1094  Fool's Garden                The Tocsin   \n",
              "1095  Fool's Garden                   Finally   \n",
              "1096  Fool's Garden              One Fine Day   \n",
              "1097  Fool's Garden       The Principal Thing   \n",
              "1098  Fool's Garden                     Emily   \n",
              "\n",
              "                                                 Lyrics  \n",
              "0     Vintage tee, brand new phone\\nHigh heels on co...  \n",
              "1     I can see you standing, honey\\nWith his arms a...  \n",
              "2     We could leave the Christmas lights up 'til Ja...  \n",
              "3     I'm doing good, I'm on some new sh*t\\nBeen say...  \n",
              "4     I don't like your little games\\nDon't like you...  \n",
              "...                                                 ...  \n",
              "1094  You saw her standing at the gateway\\nwith her ...  \n",
              "1095  No longer the same train\\nIt's reelin' on a di...  \n",
              "1096  Who's gonna cover me\\nwhen I shiver in a frigo...  \n",
              "1097  Do you have a problem?\\nDo you wanna whine?\\nD...  \n",
              "1098  Emily's going out tonight\\nwith a candle in he...  \n",
              "\n",
              "[1099 rows x 3 columns]"
            ],
            "text/html": [
              "\n",
              "  <div id=\"df-b57004e1-9f73-4897-b3f6-3ca2483c022e\" class=\"colab-df-container\">\n",
              "    <div>\n",
              "<style scoped>\n",
              "    .dataframe tbody tr th:only-of-type {\n",
              "        vertical-align: middle;\n",
              "    }\n",
              "\n",
              "    .dataframe tbody tr th {\n",
              "        vertical-align: top;\n",
              "    }\n",
              "\n",
              "    .dataframe thead th {\n",
              "        text-align: right;\n",
              "    }\n",
              "</style>\n",
              "<table border=\"1\" class=\"dataframe\">\n",
              "  <thead>\n",
              "    <tr style=\"text-align: right;\">\n",
              "      <th></th>\n",
              "      <th>Artist</th>\n",
              "      <th>Title</th>\n",
              "      <th>Lyrics</th>\n",
              "    </tr>\n",
              "  </thead>\n",
              "  <tbody>\n",
              "    <tr>\n",
              "      <th>0</th>\n",
              "      <td>Taylor Swift</td>\n",
              "      <td>cardigan</td>\n",
              "      <td>Vintage tee, brand new phone\\nHigh heels on co...</td>\n",
              "    </tr>\n",
              "    <tr>\n",
              "      <th>1</th>\n",
              "      <td>Taylor Swift</td>\n",
              "      <td>exile</td>\n",
              "      <td>I can see you standing, honey\\nWith his arms a...</td>\n",
              "    </tr>\n",
              "    <tr>\n",
              "      <th>2</th>\n",
              "      <td>Taylor Swift</td>\n",
              "      <td>Lover</td>\n",
              "      <td>We could leave the Christmas lights up 'til Ja...</td>\n",
              "    </tr>\n",
              "    <tr>\n",
              "      <th>3</th>\n",
              "      <td>Taylor Swift</td>\n",
              "      <td>the 1</td>\n",
              "      <td>I'm doing good, I'm on some new sh*t\\nBeen say...</td>\n",
              "    </tr>\n",
              "    <tr>\n",
              "      <th>4</th>\n",
              "      <td>Taylor Swift</td>\n",
              "      <td>Look What You Made Me Do</td>\n",
              "      <td>I don't like your little games\\nDon't like you...</td>\n",
              "    </tr>\n",
              "    <tr>\n",
              "      <th>...</th>\n",
              "      <td>...</td>\n",
              "      <td>...</td>\n",
              "      <td>...</td>\n",
              "    </tr>\n",
              "    <tr>\n",
              "      <th>1094</th>\n",
              "      <td>Fool's Garden</td>\n",
              "      <td>The Tocsin</td>\n",
              "      <td>You saw her standing at the gateway\\nwith her ...</td>\n",
              "    </tr>\n",
              "    <tr>\n",
              "      <th>1095</th>\n",
              "      <td>Fool's Garden</td>\n",
              "      <td>Finally</td>\n",
              "      <td>No longer the same train\\nIt's reelin' on a di...</td>\n",
              "    </tr>\n",
              "    <tr>\n",
              "      <th>1096</th>\n",
              "      <td>Fool's Garden</td>\n",
              "      <td>One Fine Day</td>\n",
              "      <td>Who's gonna cover me\\nwhen I shiver in a frigo...</td>\n",
              "    </tr>\n",
              "    <tr>\n",
              "      <th>1097</th>\n",
              "      <td>Fool's Garden</td>\n",
              "      <td>The Principal Thing</td>\n",
              "      <td>Do you have a problem?\\nDo you wanna whine?\\nD...</td>\n",
              "    </tr>\n",
              "    <tr>\n",
              "      <th>1098</th>\n",
              "      <td>Fool's Garden</td>\n",
              "      <td>Emily</td>\n",
              "      <td>Emily's going out tonight\\nwith a candle in he...</td>\n",
              "    </tr>\n",
              "  </tbody>\n",
              "</table>\n",
              "<p>1099 rows × 3 columns</p>\n",
              "</div>\n",
              "    <div class=\"colab-df-buttons\">\n",
              "\n",
              "  <div class=\"colab-df-container\">\n",
              "    <button class=\"colab-df-convert\" onclick=\"convertToInteractive('df-b57004e1-9f73-4897-b3f6-3ca2483c022e')\"\n",
              "            title=\"Convert this dataframe to an interactive table.\"\n",
              "            style=\"display:none;\">\n",
              "\n",
              "  <svg xmlns=\"http://www.w3.org/2000/svg\" height=\"24px\" viewBox=\"0 -960 960 960\">\n",
              "    <path d=\"M120-120v-720h720v720H120Zm60-500h600v-160H180v160Zm220 220h160v-160H400v160Zm0 220h160v-160H400v160ZM180-400h160v-160H180v160Zm440 0h160v-160H620v160ZM180-180h160v-160H180v160Zm440 0h160v-160H620v160Z\"/>\n",
              "  </svg>\n",
              "    </button>\n",
              "\n",
              "  <style>\n",
              "    .colab-df-container {\n",
              "      display:flex;\n",
              "      gap: 12px;\n",
              "    }\n",
              "\n",
              "    .colab-df-convert {\n",
              "      background-color: #E8F0FE;\n",
              "      border: none;\n",
              "      border-radius: 50%;\n",
              "      cursor: pointer;\n",
              "      display: none;\n",
              "      fill: #1967D2;\n",
              "      height: 32px;\n",
              "      padding: 0 0 0 0;\n",
              "      width: 32px;\n",
              "    }\n",
              "\n",
              "    .colab-df-convert:hover {\n",
              "      background-color: #E2EBFA;\n",
              "      box-shadow: 0px 1px 2px rgba(60, 64, 67, 0.3), 0px 1px 3px 1px rgba(60, 64, 67, 0.15);\n",
              "      fill: #174EA6;\n",
              "    }\n",
              "\n",
              "    .colab-df-buttons div {\n",
              "      margin-bottom: 4px;\n",
              "    }\n",
              "\n",
              "    [theme=dark] .colab-df-convert {\n",
              "      background-color: #3B4455;\n",
              "      fill: #D2E3FC;\n",
              "    }\n",
              "\n",
              "    [theme=dark] .colab-df-convert:hover {\n",
              "      background-color: #434B5C;\n",
              "      box-shadow: 0px 1px 3px 1px rgba(0, 0, 0, 0.15);\n",
              "      filter: drop-shadow(0px 1px 2px rgba(0, 0, 0, 0.3));\n",
              "      fill: #FFFFFF;\n",
              "    }\n",
              "  </style>\n",
              "\n",
              "    <script>\n",
              "      const buttonEl =\n",
              "        document.querySelector('#df-b57004e1-9f73-4897-b3f6-3ca2483c022e button.colab-df-convert');\n",
              "      buttonEl.style.display =\n",
              "        google.colab.kernel.accessAllowed ? 'block' : 'none';\n",
              "\n",
              "      async function convertToInteractive(key) {\n",
              "        const element = document.querySelector('#df-b57004e1-9f73-4897-b3f6-3ca2483c022e');\n",
              "        const dataTable =\n",
              "          await google.colab.kernel.invokeFunction('convertToInteractive',\n",
              "                                                    [key], {});\n",
              "        if (!dataTable) return;\n",
              "\n",
              "        const docLinkHtml = 'Like what you see? Visit the ' +\n",
              "          '<a target=\"_blank\" href=https://colab.research.google.com/notebooks/data_table.ipynb>data table notebook</a>'\n",
              "          + ' to learn more about interactive tables.';\n",
              "        element.innerHTML = '';\n",
              "        dataTable['output_type'] = 'display_data';\n",
              "        await google.colab.output.renderOutput(dataTable, element);\n",
              "        const docLink = document.createElement('div');\n",
              "        docLink.innerHTML = docLinkHtml;\n",
              "        element.appendChild(docLink);\n",
              "      }\n",
              "    </script>\n",
              "  </div>\n",
              "\n",
              "\n",
              "<div id=\"df-0eae78cf-9132-406d-92cd-c4c94706845d\">\n",
              "  <button class=\"colab-df-quickchart\" onclick=\"quickchart('df-0eae78cf-9132-406d-92cd-c4c94706845d')\"\n",
              "            title=\"Suggest charts\"\n",
              "            style=\"display:none;\">\n",
              "\n",
              "<svg xmlns=\"http://www.w3.org/2000/svg\" height=\"24px\"viewBox=\"0 0 24 24\"\n",
              "     width=\"24px\">\n",
              "    <g>\n",
              "        <path d=\"M19 3H5c-1.1 0-2 .9-2 2v14c0 1.1.9 2 2 2h14c1.1 0 2-.9 2-2V5c0-1.1-.9-2-2-2zM9 17H7v-7h2v7zm4 0h-2V7h2v10zm4 0h-2v-4h2v4z\"/>\n",
              "    </g>\n",
              "</svg>\n",
              "  </button>\n",
              "\n",
              "<style>\n",
              "  .colab-df-quickchart {\n",
              "      --bg-color: #E8F0FE;\n",
              "      --fill-color: #1967D2;\n",
              "      --hover-bg-color: #E2EBFA;\n",
              "      --hover-fill-color: #174EA6;\n",
              "      --disabled-fill-color: #AAA;\n",
              "      --disabled-bg-color: #DDD;\n",
              "  }\n",
              "\n",
              "  [theme=dark] .colab-df-quickchart {\n",
              "      --bg-color: #3B4455;\n",
              "      --fill-color: #D2E3FC;\n",
              "      --hover-bg-color: #434B5C;\n",
              "      --hover-fill-color: #FFFFFF;\n",
              "      --disabled-bg-color: #3B4455;\n",
              "      --disabled-fill-color: #666;\n",
              "  }\n",
              "\n",
              "  .colab-df-quickchart {\n",
              "    background-color: var(--bg-color);\n",
              "    border: none;\n",
              "    border-radius: 50%;\n",
              "    cursor: pointer;\n",
              "    display: none;\n",
              "    fill: var(--fill-color);\n",
              "    height: 32px;\n",
              "    padding: 0;\n",
              "    width: 32px;\n",
              "  }\n",
              "\n",
              "  .colab-df-quickchart:hover {\n",
              "    background-color: var(--hover-bg-color);\n",
              "    box-shadow: 0 1px 2px rgba(60, 64, 67, 0.3), 0 1px 3px 1px rgba(60, 64, 67, 0.15);\n",
              "    fill: var(--button-hover-fill-color);\n",
              "  }\n",
              "\n",
              "  .colab-df-quickchart-complete:disabled,\n",
              "  .colab-df-quickchart-complete:disabled:hover {\n",
              "    background-color: var(--disabled-bg-color);\n",
              "    fill: var(--disabled-fill-color);\n",
              "    box-shadow: none;\n",
              "  }\n",
              "\n",
              "  .colab-df-spinner {\n",
              "    border: 2px solid var(--fill-color);\n",
              "    border-color: transparent;\n",
              "    border-bottom-color: var(--fill-color);\n",
              "    animation:\n",
              "      spin 1s steps(1) infinite;\n",
              "  }\n",
              "\n",
              "  @keyframes spin {\n",
              "    0% {\n",
              "      border-color: transparent;\n",
              "      border-bottom-color: var(--fill-color);\n",
              "      border-left-color: var(--fill-color);\n",
              "    }\n",
              "    20% {\n",
              "      border-color: transparent;\n",
              "      border-left-color: var(--fill-color);\n",
              "      border-top-color: var(--fill-color);\n",
              "    }\n",
              "    30% {\n",
              "      border-color: transparent;\n",
              "      border-left-color: var(--fill-color);\n",
              "      border-top-color: var(--fill-color);\n",
              "      border-right-color: var(--fill-color);\n",
              "    }\n",
              "    40% {\n",
              "      border-color: transparent;\n",
              "      border-right-color: var(--fill-color);\n",
              "      border-top-color: var(--fill-color);\n",
              "    }\n",
              "    60% {\n",
              "      border-color: transparent;\n",
              "      border-right-color: var(--fill-color);\n",
              "    }\n",
              "    80% {\n",
              "      border-color: transparent;\n",
              "      border-right-color: var(--fill-color);\n",
              "      border-bottom-color: var(--fill-color);\n",
              "    }\n",
              "    90% {\n",
              "      border-color: transparent;\n",
              "      border-bottom-color: var(--fill-color);\n",
              "    }\n",
              "  }\n",
              "</style>\n",
              "\n",
              "  <script>\n",
              "    async function quickchart(key) {\n",
              "      const quickchartButtonEl =\n",
              "        document.querySelector('#' + key + ' button');\n",
              "      quickchartButtonEl.disabled = true;  // To prevent multiple clicks.\n",
              "      quickchartButtonEl.classList.add('colab-df-spinner');\n",
              "      try {\n",
              "        const charts = await google.colab.kernel.invokeFunction(\n",
              "            'suggestCharts', [key], {});\n",
              "      } catch (error) {\n",
              "        console.error('Error during call to suggestCharts:', error);\n",
              "      }\n",
              "      quickchartButtonEl.classList.remove('colab-df-spinner');\n",
              "      quickchartButtonEl.classList.add('colab-df-quickchart-complete');\n",
              "    }\n",
              "    (() => {\n",
              "      let quickchartButtonEl =\n",
              "        document.querySelector('#df-0eae78cf-9132-406d-92cd-c4c94706845d button');\n",
              "      quickchartButtonEl.style.display =\n",
              "        google.colab.kernel.accessAllowed ? 'block' : 'none';\n",
              "    })();\n",
              "  </script>\n",
              "</div>\n",
              "    </div>\n",
              "  </div>\n"
            ]
          },
          "metadata": {},
          "execution_count": 12
        }
      ]
    },
    {
      "cell_type": "code",
      "source": [
        "rows = 15\n",
        "\n",
        "# Reduce the number of rows for each category\n",
        "df = song.groupby('Artist').apply(lambda x: x.sample(n=rows)).reset_index(drop=True)"
      ],
      "metadata": {
        "id": "G1Gip0kdHLNa"
      },
      "execution_count": 13,
      "outputs": []
    },
    {
      "cell_type": "markdown",
      "source": [
        "# Data Preprocessing"
      ],
      "metadata": {
        "id": "965MaZAM_9LZ"
      }
    },
    {
      "cell_type": "code",
      "source": [
        "song_singer = df[\"Artist\"] + \"\\nlyrics start\\n\" + df[\"Lyrics\"]\n",
        "song_singer = song_singer.str.lower().str.replace(r\"[^A-Za-z0-9'\\s]\", \"\", regex=True)"
      ],
      "metadata": {
        "id": "z8xl77ciHDvr"
      },
      "execution_count": 14,
      "outputs": []
    },
    {
      "cell_type": "code",
      "source": [
        "tokenizer = Tokenizer()\n",
        "tokenizer.fit_on_texts(song_singer)\n",
        "tot_words = len(tokenizer.word_index) + 1\n",
        "sequences = tokenizer.texts_to_sequences(song_singer)"
      ],
      "metadata": {
        "id": "LKm3kKpIINWP"
      },
      "execution_count": 20,
      "outputs": []
    },
    {
      "cell_type": "code",
      "source": [
        "seq_len = 100\n",
        "inputs = []\n",
        "targets = []\n",
        "\n",
        "for seq in sequences:\n",
        "  for i in range(1, len(seq)):\n",
        "    n_gram = seq[:i+1]\n",
        "    if len(n_gram) > seq_len:\n",
        "      n_gram = n_gram[-seq_len:]\n",
        "\n",
        "    inputs.append(n_gram[:-1])\n",
        "    targets.append(n_gram[-1])"
      ],
      "metadata": {
        "id": "dkcLGUDfIgy_"
      },
      "execution_count": 17,
      "outputs": []
    },
    {
      "cell_type": "code",
      "source": [
        "inputs = pad_sequences(inputs, maxlen=seq_len, padding='pre')\n",
        "#targets = np.eye(tot_words)[targets]\n",
        "targets = keras.utils.to_categorical(targets, num_classes=tot_words)"
      ],
      "metadata": {
        "id": "croP_ORvJy3k"
      },
      "execution_count": 23,
      "outputs": []
    },
    {
      "cell_type": "code",
      "source": [
        "print(inputs.shape, targets.shape, tot_words)"
      ],
      "metadata": {
        "colab": {
          "base_uri": "https://localhost:8080/"
        },
        "id": "efFbOwnGMZhG",
        "outputId": "99a603af-3f4c-4eb4-9e33-0b6467350469"
      },
      "execution_count": 26,
      "outputs": [
        {
          "output_type": "stream",
          "name": "stdout",
          "text": [
            "(176792, 100) (176792, 10058) 10058\n"
          ]
        }
      ]
    },
    {
      "cell_type": "code",
      "source": [
        "def rnn_model(seq_length, num_words):\n",
        "    model = Sequential()\n",
        "\n",
        "    # Embedding layer\n",
        "    model.add(Embedding(num_words, output_dim=256, input_length = seq_length))\n",
        "\n",
        "    # GRU layer\n",
        "    model.add(GRU(128, return_sequences=True))\n",
        "    model.add(Dropout(0.1))\n",
        "    model.add(GRU(128))\n",
        "    model.add(Dropout(0.1))\n",
        "\n",
        "    # Dense layer\n",
        "    model.add(Dense(num_words, activation='softmax'))\n",
        "\n",
        "    model.compile(loss='categorical_crossentropy', optimizer='adam', metrics=['accuracy'])\n",
        "\n",
        "    return model"
      ],
      "metadata": {
        "id": "453jAhSoNMeD"
      },
      "execution_count": 27,
      "outputs": []
    },
    {
      "cell_type": "code",
      "source": [
        "model_singer = rnn_model(seq_len, tot_words)\n",
        "\n",
        "model_singer.summary()"
      ],
      "metadata": {
        "colab": {
          "base_uri": "https://localhost:8080/"
        },
        "id": "VE071Y6hOWUV",
        "outputId": "ea5a18b6-9a8a-430f-e535-740a7cd32c4c"
      },
      "execution_count": 28,
      "outputs": [
        {
          "output_type": "stream",
          "name": "stdout",
          "text": [
            "Model: \"sequential_1\"\n",
            "_________________________________________________________________\n",
            " Layer (type)                Output Shape              Param #   \n",
            "=================================================================\n",
            " embedding_1 (Embedding)     (None, 100, 256)          2574848   \n",
            "                                                                 \n",
            " gru_2 (GRU)                 (None, 100, 128)          148224    \n",
            "                                                                 \n",
            " dropout_1 (Dropout)         (None, 100, 128)          0         \n",
            "                                                                 \n",
            " gru_3 (GRU)                 (None, 128)               99072     \n",
            "                                                                 \n",
            " dropout_2 (Dropout)         (None, 128)               0         \n",
            "                                                                 \n",
            " dense_1 (Dense)             (None, 10058)             1297482   \n",
            "                                                                 \n",
            "=================================================================\n",
            "Total params: 4119626 (15.72 MB)\n",
            "Trainable params: 4119626 (15.72 MB)\n",
            "Non-trainable params: 0 (0.00 Byte)\n",
            "_________________________________________________________________\n"
          ]
        }
      ]
    },
    {
      "cell_type": "code",
      "source": [
        "model_singer.fit(inputs, targets, epochs=70, batch_size=128)"
      ],
      "metadata": {
        "colab": {
          "base_uri": "https://localhost:8080/"
        },
        "id": "--THwLYtO--8",
        "outputId": "0627fa5b-fb47-4d9b-e9dc-487ba90f3ea7"
      },
      "execution_count": 29,
      "outputs": [
        {
          "output_type": "stream",
          "name": "stdout",
          "text": [
            "Epoch 1/70\n",
            "1382/1382 [==============================] - 61s 41ms/step - loss: 6.5702 - accuracy: 0.0403\n",
            "Epoch 2/70\n",
            "1382/1382 [==============================] - 28s 20ms/step - loss: 5.7383 - accuracy: 0.0962\n",
            "Epoch 3/70\n",
            "1382/1382 [==============================] - 25s 18ms/step - loss: 5.1967 - accuracy: 0.1427\n",
            "Epoch 4/70\n",
            "1382/1382 [==============================] - 25s 18ms/step - loss: 4.7757 - accuracy: 0.1778\n",
            "Epoch 5/70\n",
            "1382/1382 [==============================] - 25s 18ms/step - loss: 4.4324 - accuracy: 0.2105\n",
            "Epoch 6/70\n",
            "1382/1382 [==============================] - 24s 17ms/step - loss: 4.1473 - accuracy: 0.2400\n",
            "Epoch 7/70\n",
            "1382/1382 [==============================] - 24s 17ms/step - loss: 3.9061 - accuracy: 0.2673\n",
            "Epoch 8/70\n",
            "1382/1382 [==============================] - 23s 17ms/step - loss: 3.7026 - accuracy: 0.2916\n",
            "Epoch 9/70\n",
            "1382/1382 [==============================] - 23s 17ms/step - loss: 3.5224 - accuracy: 0.3166\n",
            "Epoch 10/70\n",
            "1382/1382 [==============================] - 24s 17ms/step - loss: 3.3694 - accuracy: 0.3373\n",
            "Epoch 11/70\n",
            "1382/1382 [==============================] - 24s 17ms/step - loss: 3.2331 - accuracy: 0.3570\n",
            "Epoch 12/70\n",
            "1382/1382 [==============================] - 23s 17ms/step - loss: 3.1163 - accuracy: 0.3756\n",
            "Epoch 13/70\n",
            "1382/1382 [==============================] - 23s 17ms/step - loss: 3.0078 - accuracy: 0.3914\n",
            "Epoch 14/70\n",
            "1382/1382 [==============================] - 23s 17ms/step - loss: 2.9144 - accuracy: 0.4059\n",
            "Epoch 15/70\n",
            "1382/1382 [==============================] - 23s 17ms/step - loss: 2.8320 - accuracy: 0.4186\n",
            "Epoch 16/70\n",
            "1382/1382 [==============================] - 23s 17ms/step - loss: 2.7551 - accuracy: 0.4289\n",
            "Epoch 17/70\n",
            "1382/1382 [==============================] - 23s 17ms/step - loss: 2.6861 - accuracy: 0.4402\n",
            "Epoch 18/70\n",
            "1382/1382 [==============================] - 23s 17ms/step - loss: 2.6204 - accuracy: 0.4512\n",
            "Epoch 19/70\n",
            "1382/1382 [==============================] - 23s 17ms/step - loss: 2.5637 - accuracy: 0.4592\n",
            "Epoch 20/70\n",
            "1382/1382 [==============================] - 23s 17ms/step - loss: 2.5077 - accuracy: 0.4674\n",
            "Epoch 21/70\n",
            "1382/1382 [==============================] - 23s 17ms/step - loss: 2.4598 - accuracy: 0.4759\n",
            "Epoch 22/70\n",
            "1382/1382 [==============================] - 23s 17ms/step - loss: 2.4168 - accuracy: 0.4826\n",
            "Epoch 23/70\n",
            "1382/1382 [==============================] - 23s 17ms/step - loss: 2.3700 - accuracy: 0.4897\n",
            "Epoch 24/70\n",
            "1382/1382 [==============================] - 23s 17ms/step - loss: 2.3293 - accuracy: 0.4963\n",
            "Epoch 25/70\n",
            "1382/1382 [==============================] - 23s 17ms/step - loss: 2.2936 - accuracy: 0.5016\n",
            "Epoch 26/70\n",
            "1382/1382 [==============================] - 23s 17ms/step - loss: 2.2551 - accuracy: 0.5060\n",
            "Epoch 27/70\n",
            "1382/1382 [==============================] - 23s 17ms/step - loss: 2.2238 - accuracy: 0.5124\n",
            "Epoch 28/70\n",
            "1382/1382 [==============================] - 23s 17ms/step - loss: 2.1896 - accuracy: 0.5173\n",
            "Epoch 29/70\n",
            "1382/1382 [==============================] - 23s 17ms/step - loss: 2.1597 - accuracy: 0.5219\n",
            "Epoch 30/70\n",
            "1382/1382 [==============================] - 23s 17ms/step - loss: 2.1312 - accuracy: 0.5265\n",
            "Epoch 31/70\n",
            "1382/1382 [==============================] - 23s 17ms/step - loss: 2.1018 - accuracy: 0.5324\n",
            "Epoch 32/70\n",
            "1382/1382 [==============================] - 23s 17ms/step - loss: 2.0750 - accuracy: 0.5361\n",
            "Epoch 33/70\n",
            "1382/1382 [==============================] - 23s 17ms/step - loss: 2.0552 - accuracy: 0.5401\n",
            "Epoch 34/70\n",
            "1382/1382 [==============================] - 23s 17ms/step - loss: 2.0294 - accuracy: 0.5442\n",
            "Epoch 35/70\n",
            "1382/1382 [==============================] - 23s 17ms/step - loss: 2.0099 - accuracy: 0.5458\n",
            "Epoch 36/70\n",
            "1382/1382 [==============================] - 23s 17ms/step - loss: 1.9844 - accuracy: 0.5500\n",
            "Epoch 37/70\n",
            "1382/1382 [==============================] - 23s 17ms/step - loss: 1.9661 - accuracy: 0.5524\n",
            "Epoch 38/70\n",
            "1382/1382 [==============================] - 23s 17ms/step - loss: 1.9489 - accuracy: 0.5555\n",
            "Epoch 39/70\n",
            "1382/1382 [==============================] - 23s 17ms/step - loss: 1.9255 - accuracy: 0.5612\n",
            "Epoch 40/70\n",
            "1382/1382 [==============================] - 23s 17ms/step - loss: 1.9097 - accuracy: 0.5643\n",
            "Epoch 41/70\n",
            "1382/1382 [==============================] - 23s 17ms/step - loss: 1.8934 - accuracy: 0.5660\n",
            "Epoch 42/70\n",
            "1382/1382 [==============================] - 23s 17ms/step - loss: 1.8769 - accuracy: 0.5691\n",
            "Epoch 43/70\n",
            "1382/1382 [==============================] - 23s 17ms/step - loss: 1.8607 - accuracy: 0.5710\n",
            "Epoch 44/70\n",
            "1382/1382 [==============================] - 23s 17ms/step - loss: 1.8460 - accuracy: 0.5734\n",
            "Epoch 45/70\n",
            "1382/1382 [==============================] - 23s 17ms/step - loss: 1.8263 - accuracy: 0.5773\n",
            "Epoch 46/70\n",
            "1382/1382 [==============================] - 23s 17ms/step - loss: 1.8169 - accuracy: 0.5793\n",
            "Epoch 47/70\n",
            "1382/1382 [==============================] - 24s 17ms/step - loss: 1.8002 - accuracy: 0.5820\n",
            "Epoch 48/70\n",
            "1382/1382 [==============================] - 24s 17ms/step - loss: 1.7856 - accuracy: 0.5847\n",
            "Epoch 49/70\n",
            "1382/1382 [==============================] - 23s 17ms/step - loss: 1.7744 - accuracy: 0.5863\n",
            "Epoch 50/70\n",
            "1382/1382 [==============================] - 23s 16ms/step - loss: 1.7571 - accuracy: 0.5891\n",
            "Epoch 51/70\n",
            "1382/1382 [==============================] - 23s 17ms/step - loss: 1.7384 - accuracy: 0.5935\n",
            "Epoch 52/70\n",
            "1382/1382 [==============================] - 23s 17ms/step - loss: 1.7309 - accuracy: 0.5942\n",
            "Epoch 53/70\n",
            "1382/1382 [==============================] - 24s 17ms/step - loss: 1.7231 - accuracy: 0.5958\n",
            "Epoch 54/70\n",
            "1382/1382 [==============================] - 23s 17ms/step - loss: 1.7068 - accuracy: 0.5984\n",
            "Epoch 55/70\n",
            "1382/1382 [==============================] - 23s 17ms/step - loss: 1.6985 - accuracy: 0.6001\n",
            "Epoch 56/70\n",
            "1382/1382 [==============================] - 23s 17ms/step - loss: 1.6878 - accuracy: 0.6006\n",
            "Epoch 57/70\n",
            "1382/1382 [==============================] - 23s 17ms/step - loss: 1.6794 - accuracy: 0.6031\n",
            "Epoch 58/70\n",
            "1382/1382 [==============================] - 23s 17ms/step - loss: 1.6634 - accuracy: 0.6055\n",
            "Epoch 59/70\n",
            "1382/1382 [==============================] - 23s 17ms/step - loss: 1.6593 - accuracy: 0.6072\n",
            "Epoch 60/70\n",
            "1382/1382 [==============================] - 23s 17ms/step - loss: 1.6461 - accuracy: 0.6088\n",
            "Epoch 61/70\n",
            "1382/1382 [==============================] - 23s 17ms/step - loss: 1.6353 - accuracy: 0.6104\n",
            "Epoch 62/70\n",
            "1382/1382 [==============================] - 23s 17ms/step - loss: 1.6313 - accuracy: 0.6109\n",
            "Epoch 63/70\n",
            "1382/1382 [==============================] - 23s 17ms/step - loss: 1.6151 - accuracy: 0.6148\n",
            "Epoch 64/70\n",
            "1382/1382 [==============================] - 23s 17ms/step - loss: 1.6019 - accuracy: 0.6175\n",
            "Epoch 65/70\n",
            "1382/1382 [==============================] - 23s 17ms/step - loss: 1.5998 - accuracy: 0.6180\n",
            "Epoch 66/70\n",
            "1382/1382 [==============================] - 23s 17ms/step - loss: 1.5877 - accuracy: 0.6190\n",
            "Epoch 67/70\n",
            "1382/1382 [==============================] - 23s 17ms/step - loss: 1.5808 - accuracy: 0.6210\n",
            "Epoch 68/70\n",
            "1382/1382 [==============================] - 23s 17ms/step - loss: 1.5733 - accuracy: 0.6233\n",
            "Epoch 69/70\n",
            "1382/1382 [==============================] - 23s 17ms/step - loss: 1.5644 - accuracy: 0.6236\n",
            "Epoch 70/70\n",
            "1382/1382 [==============================] - 23s 17ms/step - loss: 1.5608 - accuracy: 0.6236\n"
          ]
        },
        {
          "output_type": "execute_result",
          "data": {
            "text/plain": [
              "<keras.src.callbacks.History at 0x7be2b6bf8f70>"
            ]
          },
          "metadata": {},
          "execution_count": 29
        }
      ]
    },
    {
      "cell_type": "code",
      "source": [
        "def generate_text(model, token, seed_text, max_sequence_len, next_words):\n",
        "\n",
        "    for _ in range(next_words):\n",
        "        token_list = token.texts_to_sequences([seed_text])[0]\n",
        "        token_list = pad_sequences([token_list], maxlen=max_sequence_len, padding='pre')\n",
        "        predicted_probs = model.predict(token_list, verbose=0)[0]\n",
        "\n",
        "        predicted = np.argmax(predicted_probs) + 1\n",
        "\n",
        "        output_word = \"\"\n",
        "        for word,index in token.word_index.items():\n",
        "            if index == predicted:\n",
        "                output_word = word\n",
        "                break\n",
        "        seed_text += \" \"+output_word\n",
        "        return seed_text.title()"
      ],
      "metadata": {
        "id": "gZdfFTrmWlER"
      },
      "execution_count": 30,
      "outputs": []
    },
    {
      "cell_type": "code",
      "source": [
        "# The seed title for the lyrics generation\n",
        "seed_title = \"taylor swift\"\n",
        "\n",
        "# The number of words you want to generate\n",
        "num_words = 400\n",
        "\n",
        "# Call the function to generate lyrics\n",
        "# Make sure the model and tokenizer names match what you've defined in your environment\n",
        "generated_lyrics = generate_text(model_singer, tokenizer, seed_title, seq_len, num_words)\n",
        "\n",
        "# Print the generated lyrics\n",
        "print(generated_lyrics)"
      ],
      "metadata": {
        "colab": {
          "base_uri": "https://localhost:8080/"
        },
        "id": "_NPiOa5TW5rX",
        "outputId": "5e422b64-f344-4823-d200-60c4b8dcaa23"
      },
      "execution_count": 32,
      "outputs": [
        {
          "output_type": "stream",
          "name": "stdout",
          "text": [
            "Taylor Swift Want I Is I Smile I Smile You Hey You Waste It You At There Up You One A Won'T All On I Back To And I Smile Me You At I Be Wrong You Fly You A Call A Call A High Top What Not At And You New To My Ngga Why And Can And And You At On Me Heart Ain'T Now Your Rain Out For And You Not 'Cause Can You Say That On It City And Did And Turn And Walk Of I Back A Call Proud To Air Loud You Is Town To Can'T All I Man Keep In Both For On On I Had A Once I'M Public To Head Try A High Pretty Tonight A Bitter Together Was Me What And And And That And I Said On On On On I Had A Once A Choke A Its Way What And You Relax It We Can'T Can'T Can'T See It I'M Yeah By It We Can'T Can'T Say That Down You Is Oh And You Be I One A Work You Said Come Of In Me To And Make Now Only And You Been Couldn'T All Ain'T Ain'T Me What In On And You Have Me In Me Love We Have Me A Making Me Trying A Feet A Let And Might All Chill Bed When I Say That You Will Will All See I Be I Who If And You We If You If You If And You Be I Be Long Up Ain'T Me I'M Me Up I'M Me When And And Can And Up I Is If And You Be I Be Whoa You Is Love And You Is Until And Got And But You Is Cup A Hurt To Will All To I Fck Why And And I Take Me I'M Bennie To I Is If You Believe I'M I'M Here When You They Found My Let In Me You Start In Me No You Start My With I Is Lose And That That Thinking Your With With With With And Never Uh Is Up When That Sleep Don'T Is A Long Started Good Into Before I Really Keep Me Me Yeah You Is Now Yeah That Thinking Your Chest Love And And And You Is Oh Need In Me And And And And You Be Couldn'T Young And Complicated You At On On On On On\n"
          ]
        }
      ]
    },
    {
      "cell_type": "code",
      "source": [
        "model_singer.save('lyrics_artist.h5')"
      ],
      "metadata": {
        "id": "-SRIesNMYRO2"
      },
      "execution_count": 33,
      "outputs": []
    },
    {
      "cell_type": "markdown",
      "source": [
        "# pretrained Models"
      ],
      "metadata": {
        "id": "kaJ8BoCBYX0A"
      }
    },
    {
      "cell_type": "code",
      "source": [
        "import torch\n",
        "from transformers import AutoTokenizer, CTRLLMHeadModel\n",
        "\n",
        "tokenizer = AutoTokenizer.from_pretrained(\"Salesforce/ctrl\")\n",
        "model = CTRLLMHeadModel.from_pretrained(\"Salesforce/ctrl\")\n",
        "\n",
        "# CTRL was trained with control codes as the first token\n",
        "inputs = tokenizer(\"Horror Tylor Swift\", return_tensors=\"pt\")\n",
        "#inputs[\"input_ids\"][0, 0].item()\n",
        "#tokenizer.control_codes.values()\n",
        "#assert inputs[\"input_ids\"][0, 0].item() in tokenizer.control_codes.values()\n",
        "\n",
        "sequence_ids = model.generate(inputs[\"input_ids\"],max_length =400)\n",
        "sequences = tokenizer.batch_decode(sequence_ids)\n",
        "print(sequences)"
      ],
      "metadata": {
        "colab": {
          "base_uri": "https://localhost:8080/"
        },
        "id": "iYwxkF48kh13",
        "outputId": "895cc4ba-7e8c-4c0f-ca39-fec735f0e0aa"
      },
      "execution_count": 31,
      "outputs": [
        {
          "output_type": "stream",
          "name": "stdout",
          "text": [
            "['Horror Tylor Swift and I were in the back of the car when we heard a loud bang. We looked out the window and saw a huge hole in the side of the car. We looked at each other and said that we were going to go back to the car and see what was going on. We got out of the car and walked back to the car. We looked at the hole in the side of the car and saw that it was a huge hole in the side of the car. We looked at each other and said that we were going to go back to the car and see what was going on. We got back in the car and drove back to the car. We looked at each other and said that we were going to go back to the car and see what was going on. We got back in the car and drove back to the car. We looked at each other and said that we were going to go back to the car and see what was going on. We got back in the car and drove back to the car. We looked at each other and said that we were going to go back to the car and see what was going on. We got back in the car and drove back to the car. We looked at each other and said that we were going to go back to the car and see what was going on. We got back in the car and drove back to the car. We looked at each other and said that we were going to go back to the car and see what was going on. We got back in the car and drove back to the car. We looked at each other and said that we were going to the car. We looked at each other and said that we were going to the car. We looked at each other and said that we were going to the car. We looked at each other and we were going to the car and we were going to the car. We were going to the car. We were going to the car and we were going to the car and we were going to the car and we were going to the car and']\n"
          ]
        }
      ]
    }
  ]
}